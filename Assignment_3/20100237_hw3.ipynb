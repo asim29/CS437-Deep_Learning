{
 "cells": [
  {
   "cell_type": "markdown",
   "metadata": {},
   "source": [
    "# Home work 3\n",
    "###### 20100237"
   ]
  },
  {
   "cell_type": "markdown",
   "metadata": {},
   "source": [
    "The goal of this home work is to design convolutional neural network for classification task on two dataset (a) cifar10 (b) Bricklane. As a part of this home work you will implement convolutional neural network in python and then study the effect of pooling, dropout, batch normalization and learning rate for given classifcation task. \n",
    "<br>\n",
    "Please note:\n",
    "- You have to save each trained model weights and tensorboard logs in different folder. Use proper names for the model\n",
    "- You have to show trainings in this notebook file, so make sure that the printings and figures are available on this notebook file\n",
    "- This notebook is also your report file. So add your comments and analysis of each task. This would be considered short report and it is compulsory part of the homework.\n",
    "- Your system memory may overflow. In that case please reset memory for trained model(s) keeping printed logs and history of trained model. History of all trained models could be used to plot the trends.\n",
    "- For trends you shall also use tensorboard logs \n",
    "\n",
    "\n"
   ]
  },
  {
   "cell_type": "markdown",
   "metadata": {},
   "source": [
    "### Imports"
   ]
  },
  {
   "cell_type": "code",
   "execution_count": 1,
   "metadata": {},
   "outputs": [
    {
     "name": "stderr",
     "output_type": "stream",
     "text": [
      "Using TensorFlow backend.\n"
     ]
    }
   ],
   "source": [
    "from keras.models import Model\n",
    "from keras.layers import Dense, Input, Conv2D, MaxPooling2D, Dropout, Flatten, BatchNormalization\n",
    "from keras.optimizers import Adam\n",
    "from keras.callbacks import ModelCheckpoint, EarlyStopping, CSVLogger, ReduceLROnPlateau, TensorBoard\n",
    "from keras.utils import plot_model, to_categorical\n",
    "import keras.backend as K\n",
    "from keras.datasets import cifar10\n",
    "import keras\n",
    "\n",
    "from sklearn.model_selection import train_test_split\n",
    "from IPython.display import display\n",
    "\n",
    "import cv2\n",
    "import numpy as np\n",
    "import pandas as pd\n",
    "%matplotlib inline\n",
    "import matplotlib.pyplot as plt\n",
    "plt.style.use('seaborn')\n",
    "#import seaborn as sns\n",
    "\n",
    "import os\n",
    "import glob\n",
    "your_id = 20100237\n",
    "np.random.seed(your_id)\n"
   ]
  },
  {
   "cell_type": "markdown",
   "metadata": {},
   "source": [
    "###### Hyperparameters"
   ]
  },
  {
   "cell_type": "code",
   "execution_count": 2,
   "metadata": {},
   "outputs": [],
   "source": [
    "batch_size = 64\n",
    "num_classes = 10\n",
    "class_labels = np.arange(0, num_classes, 1)\n",
    "input_shape = (32,32,3)\n",
    "images_dir = 'images/'\n",
    "epochs = 25\n",
    "all_histories = []"
   ]
  },
  {
   "cell_type": "markdown",
   "metadata": {},
   "source": [
    "### Task 1.1   Load dataset information"
   ]
  },
  {
   "cell_type": "markdown",
   "metadata": {},
   "source": [
    "[_cifar10_](https://www.cs.toronto.edu/~kriz/cifar.html) dataset contains 10 classes including airplane, bird, cat etc. You need to download dataset from [LINK](http://pjreddie.com/media/files/cifar.tgz) or [LINK2](https://www.cs.toronto.edu/~kriz/cifar-10-python.tar.gz). \n",
    "<br> _cifar10_ dataset is also available in keras but it is recommended to use the downloaded from above given link as ```cifar10.load_data()``` function downloads and loads complete data on RAM. \n",
    "<br> <br>\n",
    "This [Github](https://github.com/EN10/CIFAR) link may be helpful to you to load _cifar10_ dataset yourself.\n"
   ]
  },
  {
   "cell_type": "code",
   "execution_count": 3,
   "metadata": {
    "scrolled": true
   },
   "outputs": [],
   "source": [
    "# Add your code here\n",
    "# The data, split between train and test sets:\n",
    "# (x_train, y_train), (x_test, y_test) = cifar10.load_data()\n",
    "# x_train, x_val, y_train, y_val = train_test_split(x_train, y_train, test_size=0.2, random_state=your_id)\n",
    "# print('x_train shape:', x_train.shape)\n",
    "# print(x_train.shape[0], 'train samples')\n",
    "# print(x_test.shape[0], 'test samples')\n",
    "# print(y_train[0])\n",
    "# # url = http://pjreddie.com/media/files/cifar.tgz\n",
    "# #\n",
    "\n",
    "# # Convert class vectors to binary class matrices.\n",
    "# y_train = keras.utils.to_categorical(y_train, num_classes)\n",
    "# y_test = keras.utils.to_categorical(y_test, num_classes)\n",
    "# y_val = keras.utils.to_categorical(y_val, num_classes)"
   ]
  },
  {
   "cell_type": "code",
   "execution_count": 4,
   "metadata": {},
   "outputs": [
    {
     "name": "stdout",
     "output_type": "stream",
     "text": [
      "(10000,)\n"
     ]
    }
   ],
   "source": [
    "train_dir = './cifar/train/'\n",
    "test_dir = './cifar/test/'\n",
    "label_dir = './cifar/labels.txt'\n",
    "train_data = np.array(glob.glob(train_dir + '*.png'))\n",
    "test_data = np.array(glob.glob(test_dir + '*.png'))\n",
    "\n",
    "classes = []\n",
    "with open(label_dir) as f:\n",
    "    classes = f.read().split()\n",
    "\n",
    "train_data, val_data = train_test_split(train_data, random_state=1, test_size=0.2)\n",
    "labels = {clas: i for i, clas in enumerate(classes)}\n",
    "\n",
    "print(val_data.shape)\n",
    "# print(labels)"
   ]
  },
  {
   "cell_type": "markdown",
   "metadata": {},
   "source": [
    "### Task 1.2 Preprocessing"
   ]
  },
  {
   "cell_type": "markdown",
   "metadata": {},
   "source": [
    "Preprocessing of data such as normalization, mean shift, make the learning task simple for network and could accelrate the training process. "
   ]
  },
  {
   "cell_type": "markdown",
   "metadata": {},
   "source": [
    "###### Task 1.2.1 "
   ]
  },
  {
   "cell_type": "markdown",
   "metadata": {},
   "source": [
    "For the images, pixel values vary from 0 to 255. To shift the values between (0,1) range, divide input image by 255. Now, retrain the model designed in part-A from scratch with preprocessed data. "
   ]
  },
  {
   "cell_type": "code",
   "execution_count": 5,
   "metadata": {},
   "outputs": [],
   "source": [
    "# You shall add your code here\n",
    "def preprocessing_norm (images):\n",
    "    images = images.astype('float')/255.0\n",
    "    return images\n"
   ]
  },
  {
   "cell_type": "markdown",
   "metadata": {},
   "source": [
    "###### Task 1.2.2\n"
   ]
  },
  {
   "cell_type": "markdown",
   "metadata": {},
   "source": [
    "For the images, pixel values vary from 0 to 255. Compute the channel wise mean and standard daviation (std) for whole dataset. subtract channel-wise mean and divide by channel-wise std. This will shift the mean to zero and varation to 1. "
   ]
  },
  {
   "cell_type": "code",
   "execution_count": 6,
   "metadata": {},
   "outputs": [],
   "source": [
    "# You shall add your code here\n",
    "def preprocessing_meanShift (images):\n",
    "    images = images.astype('float')\n",
    "    for i in range(3):\n",
    "        mean = img[:,:,i].mean()\n",
    "        std = img[:,:,i].std()\n",
    "        img[:,:,i] = (img[:,:,i].astype('float') - mean) / std\n",
    "    return images\n"
   ]
  },
  {
   "cell_type": "markdown",
   "metadata": {},
   "source": [
    "### Task 1.3  Batch Generator"
   ]
  },
  {
   "cell_type": "markdown",
   "metadata": {},
   "source": [
    "For the training, we load complete data (inputs, outputs) into RAM and then provide it to \"model.fit\" function. However, in real when dataset is very large in size we can not load complete data on RAM. In that case, we need load data batchwise. To do this, we need to write a generator function that shall load a batch of data (images and output), preprocess images and return a tuple as (inputs, outputs) on every step. \n",
    "<br>\n",
    "- The template code for batch generator is provided. You need add you script to read image(s), labels and preprocessing of images. \n",
    "<br>\n",
    "- You need to check and control values of batch_start and batch_end \n",
    "<br>\n",
    "- Batch generator can be implemented in multiple ways. You can use any other template of your choice."
   ]
  },
  {
   "cell_type": "code",
   "execution_count": 7,
   "metadata": {},
   "outputs": [],
   "source": [
    "def parse_path(filename):\n",
    "    i = filename.rfind('_')+1\n",
    "    j = filename.rfind('.')\n",
    "    return labels[filename[i:j]]\n",
    "    \n",
    "def get_image(filename):\n",
    "    return cv2.cvtColor(cv2.imread(filename), cv2.COLOR_BGR2RGB)\n",
    "\n",
    "def data_generator(images_paths, batch_size = 64, preprocessing = None):\n",
    "    \n",
    "    total_size = len(images_paths)\n",
    "    indexes = np.arange(0, total_size, batch_size)\n",
    "    if total_size % batch_size != 0:\n",
    "        indexes = indexes[:-1] \n",
    "    \n",
    "    while True:\n",
    "        np.random.shuffle(indexes) # indexes shuffled for each epoch\n",
    "        for index in indexes: # 1 iteration represents 1 batch\n",
    "            batch_paths = images_paths[index:index+batch_size]\n",
    "\n",
    "            batch_x = np.array([get_image(path) for path in batch_paths])\n",
    "            batch_y = np.array([parse_path(path) for path in batch_paths])\n",
    "            batch_y = keras.utils.to_categorical(batch_y, num_classes)\n",
    "\n",
    "            if (preprocessing is None):\n",
    "                pass\n",
    "            elif (preprocessing == 'method1'):\n",
    "                batch_x = preprocessing_norm(batch_x)\n",
    "            else:\n",
    "                batch_x = preprocessing_meanShift(batch_x)\n",
    "\n",
    "            yield batch_x, batch_y\n",
    "          "
   ]
  },
  {
   "cell_type": "code",
   "execution_count": 8,
   "metadata": {},
   "outputs": [],
   "source": [
    "# data = data_generator(train_data)\n",
    "# all_data = []\n",
    "# for data_object in data:\n",
    "#     all_data.append(data_object)    \n",
    "\n",
    "# print(len(all_data))"
   ]
  },
  {
   "cell_type": "markdown",
   "metadata": {},
   "source": [
    "### Task 1.4 Design CNN model"
   ]
  },
  {
   "cell_type": "code",
   "execution_count": 9,
   "metadata": {},
   "outputs": [],
   "source": [
    "# Add your code here\n",
    "\n",
    "input_im = Input(shape=(input_shape), name='input_im')\n",
    "conv1 = Conv2D(8, kernel_size=(3, 3), strides = (2,2),  activation='relu')(input_im)\n",
    "conv2 = Conv2D(16, (3, 3), strides = (2,2), activation='relu')(conv1)\n",
    "flat = Flatten()(conv2)\n",
    "dense1 = Dense(44, activation='relu')(flat)\n",
    "output_class = Dense(num_classes, activation='softmax')(dense1)\n",
    "\n",
    "model_initial = Model(inputs=input_im, outputs=output_class)"
   ]
  },
  {
   "cell_type": "markdown",
   "metadata": {},
   "source": [
    "#### Compile model and plot"
   ]
  },
  {
   "cell_type": "code",
   "execution_count": 10,
   "metadata": {},
   "outputs": [
    {
     "name": "stdout",
     "output_type": "stream",
     "text": [
      "_________________________________________________________________\n",
      "Layer (type)                 Output Shape              Param #   \n",
      "=================================================================\n",
      "input_im (InputLayer)        (None, 32, 32, 3)         0         \n",
      "_________________________________________________________________\n",
      "conv2d_1 (Conv2D)            (None, 15, 15, 8)         224       \n",
      "_________________________________________________________________\n",
      "conv2d_2 (Conv2D)            (None, 7, 7, 16)          1168      \n",
      "_________________________________________________________________\n",
      "flatten_1 (Flatten)          (None, 784)               0         \n",
      "_________________________________________________________________\n",
      "dense_1 (Dense)              (None, 44)                34540     \n",
      "_________________________________________________________________\n",
      "dense_2 (Dense)              (None, 10)                450       \n",
      "=================================================================\n",
      "Total params: 36,382\n",
      "Trainable params: 36,382\n",
      "Non-trainable params: 0\n",
      "_________________________________________________________________\n"
     ]
    }
   ],
   "source": [
    "model_name = 'model_initial'\n",
    "\n",
    "if not os.path.exists('./'+model_name):\n",
    "    os.mkdir(model_name)\n",
    "    \n",
    "adam = Adam(lr=0.001)\n",
    "model_initial.compile(loss='categorical_crossentropy', \n",
    "              optimizer=adam, \n",
    "              metrics=['accuracy'])\n",
    "\n",
    "plot_model(model_initial, model_name+'/'+model_name+'.png')\n",
    "model_initial.summary()"
   ]
  },
  {
   "cell_type": "markdown",
   "metadata": {},
   "source": [
    "#### Task 1.5 Training model\n",
    "In order to train the model, instead of \"model.fit\" function, we will use \"model.fit_generator\" function for training. For details check out [keras documentation](https://keras.io/models/sequential/)"
   ]
  },
  {
   "cell_type": "code",
   "execution_count": 11,
   "metadata": {},
   "outputs": [],
   "source": [
    "class LRTensorBoard(TensorBoard):\n",
    "    def __init__(self, *args, **kwargs):\n",
    "        super(LRTensorBoard, self).__init__(*args, **kwargs)\n",
    "\n",
    "    def on_epoch_end(self, epoch, logs=None):\n",
    "        logs.update({'lr': K.eval(self.model.optimizer.lr)})\n",
    "        super(LRTensorBoard, self).on_epoch_end(epoch, logs)"
   ]
  },
  {
   "cell_type": "code",
   "execution_count": 12,
   "metadata": {},
   "outputs": [],
   "source": [
    "checkpoint = ModelCheckpoint(model_name+'/'+model_name+'-{epoch:02d}-{val_loss:.2f}.h5', \n",
    "                             monitor='val_loss', verbose=1, save_best_only=True, mode='auto')\n",
    "cvslogger = CSVLogger(model_name+'/logs.csv', separator=',', append=True)\n",
    "reducelr = ReduceLROnPlateau(monitor='val_loss', factor=0.2, patience=3, min_lr=0.000001)\n",
    "tensorboard = LRTensorBoard(log_dir='./'+model_name, histogram_freq=0, write_graph=True, write_grads=1, \n",
    "                            batch_size=batch_size, write_images=True)\n",
    "\n",
    "callbacks = [checkpoint, tensorboard, cvslogger, reducelr]"
   ]
  },
  {
   "cell_type": "markdown",
   "metadata": {},
   "source": [
    "##### Task 1.5.1 \n",
    "Train model without using any pre-processing scheme"
   ]
  },
  {
   "cell_type": "code",
   "execution_count": 13,
   "metadata": {},
   "outputs": [],
   "source": [
    "train_gen = data_generator(train_data, batch_size = batch_size)\n",
    "val_gen = data_generator(val_data, batch_size = batch_size)\n",
    "test_gen = data_generator(test_data, batch_size = batch_size)"
   ]
  },
  {
   "cell_type": "code",
   "execution_count": 14,
   "metadata": {
    "scrolled": true
   },
   "outputs": [
    {
     "name": "stdout",
     "output_type": "stream",
     "text": [
      "Epoch 1/25\n",
      "625/625 [==============================] - 9s 14ms/step - loss: 2.6722 - acc: 0.2254 - val_loss: 1.8254 - val_acc: 0.3255\n",
      "\n",
      "Epoch 00001: val_loss improved from inf to 1.82538, saving model to model_initial/model_initial-01-1.83.h5\n",
      "Epoch 2/25\n",
      "625/625 [==============================] - 7s 12ms/step - loss: 1.7030 - acc: 0.3751 - val_loss: 1.6441 - val_acc: 0.3985\n",
      "\n",
      "Epoch 00002: val_loss improved from 1.82538 to 1.64408, saving model to model_initial/model_initial-02-1.64.h5\n",
      "Epoch 3/25\n",
      "625/625 [==============================] - 7s 11ms/step - loss: 1.5354 - acc: 0.4430 - val_loss: 1.5598 - val_acc: 0.4396\n",
      "\n",
      "Epoch 00003: val_loss improved from 1.64408 to 1.55977, saving model to model_initial/model_initial-03-1.56.h5\n",
      "Epoch 4/25\n",
      "625/625 [==============================] - 7s 11ms/step - loss: 1.4243 - acc: 0.4873 - val_loss: 1.5483 - val_acc: 0.4579\n",
      "\n",
      "Epoch 00004: val_loss improved from 1.55977 to 1.54834, saving model to model_initial/model_initial-04-1.55.h5\n",
      "Epoch 5/25\n",
      "625/625 [==============================] - 8s 13ms/step - loss: 1.3349 - acc: 0.5220 - val_loss: 1.5029 - val_acc: 0.4749\n",
      "\n",
      "Epoch 00005: val_loss improved from 1.54834 to 1.50295, saving model to model_initial/model_initial-05-1.50.h5\n",
      "Epoch 6/25\n",
      "625/625 [==============================] - 7s 11ms/step - loss: 1.2627 - acc: 0.5507 - val_loss: 1.4939 - val_acc: 0.4822\n",
      "\n",
      "Epoch 00006: val_loss improved from 1.50295 to 1.49394, saving model to model_initial/model_initial-06-1.49.h5\n",
      "Epoch 7/25\n",
      "625/625 [==============================] - 7s 11ms/step - loss: 1.2003 - acc: 0.5743 - val_loss: 1.4707 - val_acc: 0.4882\n",
      "\n",
      "Epoch 00007: val_loss improved from 1.49394 to 1.47072, saving model to model_initial/model_initial-07-1.47.h5\n",
      "Epoch 8/25\n",
      "625/625 [==============================] - 8s 13ms/step - loss: 1.1434 - acc: 0.5951 - val_loss: 1.5054 - val_acc: 0.4943\n",
      "\n",
      "Epoch 00008: val_loss did not improve from 1.47072\n",
      "Epoch 9/25\n",
      "625/625 [==============================] - 8s 13ms/step - loss: 1.0896 - acc: 0.6143 - val_loss: 1.5438 - val_acc: 0.4847\n",
      "\n",
      "Epoch 00009: val_loss did not improve from 1.47072\n",
      "Epoch 10/25\n",
      "625/625 [==============================] - 8s 12ms/step - loss: 1.0465 - acc: 0.6287 - val_loss: 1.5666 - val_acc: 0.4879\n",
      "\n",
      "Epoch 00010: val_loss did not improve from 1.47072\n",
      "Epoch 11/25\n",
      "625/625 [==============================] - 7s 11ms/step - loss: 0.8958 - acc: 0.6855 - val_loss: 1.6145 - val_acc: 0.4912\n",
      "\n",
      "Epoch 00011: val_loss did not improve from 1.47072\n",
      "Epoch 12/25\n",
      "625/625 [==============================] - 7s 10ms/step - loss: 0.8636 - acc: 0.6981 - val_loss: 1.6312 - val_acc: 0.4939\n",
      "\n",
      "Epoch 00012: val_loss did not improve from 1.47072\n",
      "Epoch 13/25\n",
      "625/625 [==============================] - 7s 11ms/step - loss: 0.8428 - acc: 0.7054 - val_loss: 1.6724 - val_acc: 0.4870\n",
      "\n",
      "Epoch 00013: val_loss did not improve from 1.47072\n",
      "Epoch 14/25\n",
      "625/625 [==============================] - 6s 10ms/step - loss: 0.7994 - acc: 0.7233 - val_loss: 1.6781 - val_acc: 0.4935\n",
      "\n",
      "Epoch 00014: val_loss did not improve from 1.47072\n",
      "Epoch 15/25\n",
      "625/625 [==============================] - 7s 11ms/step - loss: 0.7937 - acc: 0.7255 - val_loss: 1.6893 - val_acc: 0.4921\n",
      "\n",
      "Epoch 00015: val_loss did not improve from 1.47072\n",
      "Epoch 16/25\n",
      "625/625 [==============================] - 6s 10ms/step - loss: 0.7896 - acc: 0.7281 - val_loss: 1.6988 - val_acc: 0.4917\n",
      "\n",
      "Epoch 00016: val_loss did not improve from 1.47072\n",
      "Epoch 17/25\n",
      "625/625 [==============================] - 8s 13ms/step - loss: 0.7799 - acc: 0.7315 - val_loss: 1.7014 - val_acc: 0.4930\n",
      "\n",
      "Epoch 00017: val_loss did not improve from 1.47072\n",
      "Epoch 18/25\n",
      "625/625 [==============================] - 7s 10ms/step - loss: 0.7789 - acc: 0.7319 - val_loss: 1.7035 - val_acc: 0.4927\n",
      "\n",
      "Epoch 00018: val_loss did not improve from 1.47072\n",
      "Epoch 19/25\n",
      "625/625 [==============================] - 6s 10ms/step - loss: 0.7780 - acc: 0.7322 - val_loss: 1.7039 - val_acc: 0.4925\n",
      "\n",
      "Epoch 00019: val_loss did not improve from 1.47072\n",
      "Epoch 20/25\n",
      "625/625 [==============================] - 6s 10ms/step - loss: 0.7759 - acc: 0.7330 - val_loss: 1.7047 - val_acc: 0.4926\n",
      "\n",
      "Epoch 00020: val_loss did not improve from 1.47072\n",
      "Epoch 21/25\n",
      "625/625 [==============================] - 7s 11ms/step - loss: 0.7757 - acc: 0.7332 - val_loss: 1.7052 - val_acc: 0.4928\n",
      "\n",
      "Epoch 00021: val_loss did not improve from 1.47072\n",
      "Epoch 22/25\n",
      "625/625 [==============================] - 8s 13ms/step - loss: 0.7755 - acc: 0.7333 - val_loss: 1.7057 - val_acc: 0.4928\n",
      "\n",
      "Epoch 00022: val_loss did not improve from 1.47072\n",
      "Epoch 23/25\n",
      "625/625 [==============================] - 6s 10ms/step - loss: 0.7752 - acc: 0.7333 - val_loss: 1.7059 - val_acc: 0.4926\n",
      "\n",
      "Epoch 00023: val_loss did not improve from 1.47072\n",
      "Epoch 24/25\n",
      "625/625 [==============================] - 6s 10ms/step - loss: 0.7751 - acc: 0.7333 - val_loss: 1.7062 - val_acc: 0.4925\n",
      "\n",
      "Epoch 00024: val_loss did not improve from 1.47072\n",
      "Epoch 25/25\n",
      "625/625 [==============================] - 6s 10ms/step - loss: 0.7750 - acc: 0.7336 - val_loss: 1.7066 - val_acc: 0.4929\n",
      "\n",
      "Epoch 00025: val_loss did not improve from 1.47072\n"
     ]
    }
   ],
   "source": [
    "hist_initial = model_initial.fit_generator(train_gen, epochs=epochs, steps_per_epoch=len(train_data)//batch_size, \n",
    "                           validation_data=val_gen, validation_steps=len(val_data)//batch_size, \n",
    "                           callbacks=callbacks, verbose=1)\n",
    "\n",
    "all_histories.append(hist_initial)\n",
    "# save model"
   ]
  },
  {
   "cell_type": "markdown",
   "metadata": {},
   "source": [
    "##### Task 1.5.2 \n",
    "Train model by using data preprocessing i.e normalization or mean shift. "
   ]
  },
  {
   "cell_type": "code",
   "execution_count": 15,
   "metadata": {},
   "outputs": [],
   "source": [
    "\n",
    "input_im = Input(shape=(input_shape), name='input_im')\n",
    "conv1 = Conv2D(8, kernel_size=(3, 3), strides = (2,2),  activation='relu')(input_im)\n",
    "conv2 = Conv2D(16, (3, 3), strides = (2,2), activation='relu')(conv1)\n",
    "flat = Flatten()(conv2)\n",
    "dense1 = Dense(44, activation='relu')(flat)\n",
    "output_class = Dense(num_classes, activation='softmax')(dense1)\n",
    "\n",
    "model_preprocessed = Model(inputs=input_im, outputs=output_class)\n"
   ]
  },
  {
   "cell_type": "code",
   "execution_count": 16,
   "metadata": {},
   "outputs": [
    {
     "name": "stdout",
     "output_type": "stream",
     "text": [
      "_________________________________________________________________\n",
      "Layer (type)                 Output Shape              Param #   \n",
      "=================================================================\n",
      "input_im (InputLayer)        (None, 32, 32, 3)         0         \n",
      "_________________________________________________________________\n",
      "conv2d_3 (Conv2D)            (None, 15, 15, 8)         224       \n",
      "_________________________________________________________________\n",
      "conv2d_4 (Conv2D)            (None, 7, 7, 16)          1168      \n",
      "_________________________________________________________________\n",
      "flatten_2 (Flatten)          (None, 784)               0         \n",
      "_________________________________________________________________\n",
      "dense_3 (Dense)              (None, 44)                34540     \n",
      "_________________________________________________________________\n",
      "dense_4 (Dense)              (None, 10)                450       \n",
      "=================================================================\n",
      "Total params: 36,382\n",
      "Trainable params: 36,382\n",
      "Non-trainable params: 0\n",
      "_________________________________________________________________\n"
     ]
    }
   ],
   "source": [
    "model_name = 'model_preprocessed'\n",
    "\n",
    "if not os.path.exists('./'+model_name):\n",
    "    os.mkdir(model_name)\n",
    "    \n",
    "adam = Adam(lr=0.001)\n",
    "model_preprocessed.compile(loss='categorical_crossentropy', \n",
    "              optimizer=adam, \n",
    "              metrics=['accuracy'])\n",
    "\n",
    "plot_model(model_preprocessed, model_name+'/'+model_name+'.png')\n",
    "model_preprocessed.summary()"
   ]
  },
  {
   "cell_type": "code",
   "execution_count": 17,
   "metadata": {},
   "outputs": [],
   "source": [
    "checkpoint = ModelCheckpoint(model_name+'/'+model_name+'-{epoch:02d}-{val_loss:.2f}.h5', \n",
    "                             monitor='val_loss', verbose=1, save_best_only=True, mode='auto')\n",
    "cvslogger = CSVLogger(model_name+'/logs.csv', separator=',', append=True)\n",
    "tensorboard = LRTensorBoard(log_dir='./'+model_name, histogram_freq=0, write_graph=True, write_grads=1, \n",
    "                            batch_size=batch_size, write_images=True)\n",
    "\n",
    "callbacks = [checkpoint, tensorboard, cvslogger]"
   ]
  },
  {
   "cell_type": "code",
   "execution_count": 18,
   "metadata": {},
   "outputs": [],
   "source": [
    "train_gen = data_generator(train_data, batch_size = batch_size, preprocessing = 'method1')\n",
    "val_gen = data_generator(val_data, batch_size = batch_size, preprocessing = 'method1')\n",
    "test_gen = data_generator(test_data, batch_size = batch_size, preprocessing = 'method1')"
   ]
  },
  {
   "cell_type": "code",
   "execution_count": 19,
   "metadata": {},
   "outputs": [
    {
     "name": "stdout",
     "output_type": "stream",
     "text": [
      "Epoch 1/25\n",
      "625/625 [==============================] - 7s 11ms/step - loss: 1.7555 - acc: 0.3680 - val_loss: 1.5469 - val_acc: 0.4488\n",
      "\n",
      "Epoch 00001: val_loss improved from inf to 1.54687, saving model to model_preprocessed/model_preprocessed-01-1.55.h5\n",
      "Epoch 2/25\n",
      "625/625 [==============================] - 7s 11ms/step - loss: 1.4267 - acc: 0.4903 - val_loss: 1.3979 - val_acc: 0.4954\n",
      "\n",
      "Epoch 00002: val_loss improved from 1.54687 to 1.39793, saving model to model_preprocessed/model_preprocessed-02-1.40.h5\n",
      "Epoch 3/25\n",
      "625/625 [==============================] - 7s 10ms/step - loss: 1.3254 - acc: 0.5279 - val_loss: 1.3200 - val_acc: 0.5362\n",
      "\n",
      "Epoch 00003: val_loss improved from 1.39793 to 1.32001, saving model to model_preprocessed/model_preprocessed-03-1.32.h5\n",
      "Epoch 4/25\n",
      "625/625 [==============================] - 7s 10ms/step - loss: 1.2614 - acc: 0.5528 - val_loss: 1.2931 - val_acc: 0.5439\n",
      "\n",
      "Epoch 00004: val_loss improved from 1.32001 to 1.29311, saving model to model_preprocessed/model_preprocessed-04-1.29.h5\n",
      "Epoch 5/25\n",
      "625/625 [==============================] - 7s 11ms/step - loss: 1.2150 - acc: 0.5676 - val_loss: 1.2827 - val_acc: 0.5508\n",
      "\n",
      "Epoch 00005: val_loss improved from 1.29311 to 1.28268, saving model to model_preprocessed/model_preprocessed-05-1.28.h5\n",
      "Epoch 6/25\n",
      "625/625 [==============================] - 7s 11ms/step - loss: 1.1731 - acc: 0.5847 - val_loss: 1.2381 - val_acc: 0.5631\n",
      "\n",
      "Epoch 00006: val_loss improved from 1.28268 to 1.23807, saving model to model_preprocessed/model_preprocessed-06-1.24.h5\n",
      "Epoch 7/25\n",
      "625/625 [==============================] - 7s 11ms/step - loss: 1.1378 - acc: 0.5970 - val_loss: 1.2376 - val_acc: 0.5660\n",
      "\n",
      "Epoch 00007: val_loss improved from 1.23807 to 1.23763, saving model to model_preprocessed/model_preprocessed-07-1.24.h5\n",
      "Epoch 8/25\n",
      "625/625 [==============================] - 7s 11ms/step - loss: 1.1118 - acc: 0.6060 - val_loss: 1.2232 - val_acc: 0.5664\n",
      "\n",
      "Epoch 00008: val_loss improved from 1.23763 to 1.22323, saving model to model_preprocessed/model_preprocessed-08-1.22.h5\n",
      "Epoch 9/25\n",
      "625/625 [==============================] - 7s 11ms/step - loss: 1.0826 - acc: 0.6182 - val_loss: 1.1959 - val_acc: 0.5753\n",
      "\n",
      "Epoch 00009: val_loss improved from 1.22323 to 1.19585, saving model to model_preprocessed/model_preprocessed-09-1.20.h5\n",
      "Epoch 10/25\n",
      "625/625 [==============================] - 7s 11ms/step - loss: 1.0562 - acc: 0.6251 - val_loss: 1.2087 - val_acc: 0.5731\n",
      "\n",
      "Epoch 00010: val_loss did not improve from 1.19585\n",
      "Epoch 11/25\n",
      "625/625 [==============================] - 7s 11ms/step - loss: 1.0376 - acc: 0.6335 - val_loss: 1.2046 - val_acc: 0.5774\n",
      "\n",
      "Epoch 00011: val_loss did not improve from 1.19585\n",
      "Epoch 12/25\n",
      "625/625 [==============================] - 7s 11ms/step - loss: 1.0135 - acc: 0.6442 - val_loss: 1.2106 - val_acc: 0.5727\n",
      "\n",
      "Epoch 00012: val_loss did not improve from 1.19585\n",
      "Epoch 13/25\n",
      "625/625 [==============================] - 7s 11ms/step - loss: 0.9950 - acc: 0.6515 - val_loss: 1.1912 - val_acc: 0.5864\n",
      "\n",
      "Epoch 00013: val_loss improved from 1.19585 to 1.19124, saving model to model_preprocessed/model_preprocessed-13-1.19.h5\n",
      "Epoch 14/25\n",
      "625/625 [==============================] - 7s 11ms/step - loss: 0.9806 - acc: 0.6549 - val_loss: 1.2000 - val_acc: 0.5825\n",
      "\n",
      "Epoch 00014: val_loss did not improve from 1.19124\n",
      "Epoch 15/25\n",
      "625/625 [==============================] - 7s 11ms/step - loss: 0.9598 - acc: 0.6634 - val_loss: 1.1766 - val_acc: 0.5897\n",
      "\n",
      "Epoch 00015: val_loss improved from 1.19124 to 1.17664, saving model to model_preprocessed/model_preprocessed-15-1.18.h5\n",
      "Epoch 16/25\n",
      "625/625 [==============================] - 7s 11ms/step - loss: 0.9451 - acc: 0.6663 - val_loss: 1.2756 - val_acc: 0.5667\n",
      "\n",
      "Epoch 00016: val_loss did not improve from 1.17664\n",
      "Epoch 17/25\n",
      "625/625 [==============================] - 7s 11ms/step - loss: 0.9347 - acc: 0.6719 - val_loss: 1.1908 - val_acc: 0.5914\n",
      "\n",
      "Epoch 00017: val_loss did not improve from 1.17664\n",
      "Epoch 18/25\n",
      "625/625 [==============================] - 7s 11ms/step - loss: 0.9153 - acc: 0.6791 - val_loss: 1.2092 - val_acc: 0.5888\n",
      "\n",
      "Epoch 00018: val_loss did not improve from 1.17664\n",
      "Epoch 19/25\n",
      "625/625 [==============================] - 9s 15ms/step - loss: 0.9035 - acc: 0.6837 - val_loss: 1.2020 - val_acc: 0.5933\n",
      "\n",
      "Epoch 00019: val_loss did not improve from 1.17664\n",
      "Epoch 20/25\n",
      "625/625 [==============================] - 8s 13ms/step - loss: 0.8877 - acc: 0.6875 - val_loss: 1.1962 - val_acc: 0.5971\n",
      "\n",
      "Epoch 00020: val_loss did not improve from 1.17664\n",
      "Epoch 21/25\n",
      "625/625 [==============================] - 8s 13ms/step - loss: 0.8769 - acc: 0.6916 - val_loss: 1.2258 - val_acc: 0.5893\n",
      "\n",
      "Epoch 00021: val_loss did not improve from 1.17664\n",
      "Epoch 22/25\n",
      "625/625 [==============================] - 7s 12ms/step - loss: 0.8668 - acc: 0.6964 - val_loss: 1.2069 - val_acc: 0.5924\n",
      "\n",
      "Epoch 00022: val_loss did not improve from 1.17664\n",
      "Epoch 23/25\n",
      "625/625 [==============================] - 8s 13ms/step - loss: 0.8523 - acc: 0.7001 - val_loss: 1.2162 - val_acc: 0.5944\n",
      "\n",
      "Epoch 00023: val_loss did not improve from 1.17664\n",
      "Epoch 24/25\n",
      "625/625 [==============================] - 7s 11ms/step - loss: 0.8451 - acc: 0.7037 - val_loss: 1.2557 - val_acc: 0.5828\n",
      "\n",
      "Epoch 00024: val_loss did not improve from 1.17664\n",
      "Epoch 25/25\n",
      "625/625 [==============================] - 7s 11ms/step - loss: 0.8325 - acc: 0.7069 - val_loss: 1.2273 - val_acc: 0.5910\n",
      "\n",
      "Epoch 00025: val_loss did not improve from 1.17664\n"
     ]
    }
   ],
   "source": [
    "hist_preprocessed = model_preprocessed.fit_generator(train_gen, epochs=epochs, steps_per_epoch=len(train_data)//batch_size, \n",
    "                           validation_data=val_gen, validation_steps=len(val_data)//batch_size, \n",
    "                           callbacks=callbacks, verbose=1)\n",
    "all_histories.append(hist_preprocessed)\n"
   ]
  },
  {
   "cell_type": "markdown",
   "metadata": {},
   "source": [
    "### Task 2.1 Pooling"
   ]
  },
  {
   "cell_type": "markdown",
   "metadata": {},
   "source": [
    "Now, you need to modify the model by adding pooling layer(s). Pooling could be average pooling or max pooling. You can use the size and stride for pooling of your choice. \n",
    "<br> \n",
    "Modify the network by introducing pooling layer and train the model using __fit_generator__ function. "
   ]
  },
  {
   "cell_type": "code",
   "execution_count": 20,
   "metadata": {
    "slideshow": {
     "slide_type": "-"
    }
   },
   "outputs": [
    {
     "name": "stdout",
     "output_type": "stream",
     "text": [
      "_________________________________________________________________\n",
      "Layer (type)                 Output Shape              Param #   \n",
      "=================================================================\n",
      "input_im (InputLayer)        (None, 32, 32, 3)         0         \n",
      "_________________________________________________________________\n",
      "conv2d_5 (Conv2D)            (None, 15, 15, 8)         224       \n",
      "_________________________________________________________________\n",
      "max_pooling2d_1 (MaxPooling2 (None, 7, 7, 8)           0         \n",
      "_________________________________________________________________\n",
      "conv2d_6 (Conv2D)            (None, 3, 3, 16)          1168      \n",
      "_________________________________________________________________\n",
      "max_pooling2d_2 (MaxPooling2 (None, 1, 1, 16)          0         \n",
      "_________________________________________________________________\n",
      "flatten_3 (Flatten)          (None, 16)                0         \n",
      "_________________________________________________________________\n",
      "dense_5 (Dense)              (None, 44)                748       \n",
      "_________________________________________________________________\n",
      "dense_6 (Dense)              (None, 10)                450       \n",
      "=================================================================\n",
      "Total params: 2,590\n",
      "Trainable params: 2,590\n",
      "Non-trainable params: 0\n",
      "_________________________________________________________________\n"
     ]
    }
   ],
   "source": [
    "model_name = 'pool_model'\n",
    "\n",
    "input_im = Input(shape=(input_shape), name='input_im')\n",
    "conv1 = Conv2D(8, kernel_size=(3, 3), strides = (2,2),  activation='relu')(input_im)\n",
    "maxPool1 = MaxPooling2D((2,2))(conv1)\n",
    "conv2 = Conv2D(16, (3, 3), strides = (2,2), activation='relu')(maxPool1)\n",
    "maxPool2 = MaxPooling2D((2,2))(conv2)\n",
    "flat = Flatten()(maxPool2)\n",
    "dense1 = Dense(44, activation='relu')(flat)\n",
    "output_class = Dense(num_classes, activation='softmax')(dense1)\n",
    "\n",
    "model_pooled = Model(inputs=input_im, outputs=output_class)\n",
    "\n",
    "if not os.path.exists('./'+model_name):\n",
    "    os.mkdir(model_name)\n",
    "    \n",
    "adam = Adam(lr=0.001)\n",
    "model_pooled.compile(loss='categorical_crossentropy', \n",
    "              optimizer=adam, \n",
    "              metrics=['accuracy'])\n",
    "\n",
    "plot_model(model_pooled, model_name+'/'+model_name+'.png')\n",
    "model_pooled.summary()\n",
    "\n",
    "# save model"
   ]
  },
  {
   "cell_type": "code",
   "execution_count": 21,
   "metadata": {},
   "outputs": [],
   "source": [
    "checkpoint = ModelCheckpoint(model_name+'/'+model_name+'-{epoch:02d}-{val_loss:.2f}.h5', \n",
    "                             monitor='val_loss', verbose=1, save_best_only=True, mode='auto')\n",
    "cvslogger = CSVLogger(model_name+'/logs.csv', separator=',', append=True)\n",
    "tensorboard = LRTensorBoard(log_dir='./'+model_name, histogram_freq=0, write_graph=True, write_grads=1, \n",
    "                            batch_size=batch_size, write_images=True)\n",
    "\n",
    "callbacks = [checkpoint, tensorboard, cvslogger]"
   ]
  },
  {
   "cell_type": "code",
   "execution_count": 22,
   "metadata": {},
   "outputs": [],
   "source": [
    "train_gen = data_generator(train_data, batch_size = batch_size, preprocessing = 'method1')\n",
    "val_gen = data_generator(val_data, batch_size = batch_size, preprocessing = 'method1')\n",
    "test_gen = data_generator(test_data, batch_size = batch_size, preprocessing = 'method1')"
   ]
  },
  {
   "cell_type": "code",
   "execution_count": 23,
   "metadata": {
    "scrolled": true
   },
   "outputs": [
    {
     "name": "stdout",
     "output_type": "stream",
     "text": [
      "Epoch 1/25\n",
      "625/625 [==============================] - 7s 11ms/step - loss: 2.1114 - acc: 0.2045 - val_loss: 1.9898 - val_acc: 0.2493\n",
      "\n",
      "Epoch 00001: val_loss improved from inf to 1.98982, saving model to pool_model/pool_model-01-1.99.h5\n",
      "Epoch 2/25\n",
      "625/625 [==============================] - 6s 10ms/step - loss: 1.9269 - acc: 0.2768 - val_loss: 1.8687 - val_acc: 0.3025\n",
      "\n",
      "Epoch 00002: val_loss improved from 1.98982 to 1.86868, saving model to pool_model/pool_model-02-1.87.h5\n",
      "Epoch 3/25\n",
      "625/625 [==============================] - 6s 10ms/step - loss: 1.8228 - acc: 0.3173 - val_loss: 1.7962 - val_acc: 0.3328\n",
      "\n",
      "Epoch 00003: val_loss improved from 1.86868 to 1.79623, saving model to pool_model/pool_model-03-1.80.h5\n",
      "Epoch 4/25\n",
      "625/625 [==============================] - 6s 10ms/step - loss: 1.7636 - acc: 0.3411 - val_loss: 1.7477 - val_acc: 0.3529\n",
      "\n",
      "Epoch 00004: val_loss improved from 1.79623 to 1.74765, saving model to pool_model/pool_model-04-1.75.h5\n",
      "Epoch 5/25\n",
      "625/625 [==============================] - 6s 10ms/step - loss: 1.7297 - acc: 0.3528 - val_loss: 1.7125 - val_acc: 0.3711\n",
      "\n",
      "Epoch 00005: val_loss improved from 1.74765 to 1.71254, saving model to pool_model/pool_model-05-1.71.h5\n",
      "Epoch 6/25\n",
      "625/625 [==============================] - 7s 10ms/step - loss: 1.7052 - acc: 0.3625 - val_loss: 1.6981 - val_acc: 0.3759\n",
      "\n",
      "Epoch 00006: val_loss improved from 1.71254 to 1.69811, saving model to pool_model/pool_model-06-1.70.h5\n",
      "Epoch 7/25\n",
      "625/625 [==============================] - 6s 10ms/step - loss: 1.6900 - acc: 0.3717 - val_loss: 1.6885 - val_acc: 0.3809\n",
      "\n",
      "Epoch 00007: val_loss improved from 1.69811 to 1.68853, saving model to pool_model/pool_model-07-1.69.h5\n",
      "Epoch 8/25\n",
      "625/625 [==============================] - 6s 10ms/step - loss: 1.6731 - acc: 0.3794 - val_loss: 1.6785 - val_acc: 0.3893\n",
      "\n",
      "Epoch 00008: val_loss improved from 1.68853 to 1.67850, saving model to pool_model/pool_model-08-1.68.h5\n",
      "Epoch 9/25\n",
      "625/625 [==============================] - 7s 11ms/step - loss: 1.6588 - acc: 0.3850 - val_loss: 1.6664 - val_acc: 0.3990\n",
      "\n",
      "Epoch 00009: val_loss improved from 1.67850 to 1.66644, saving model to pool_model/pool_model-09-1.67.h5\n",
      "Epoch 10/25\n",
      "625/625 [==============================] - 7s 11ms/step - loss: 1.6476 - acc: 0.3899 - val_loss: 1.6559 - val_acc: 0.3978\n",
      "\n",
      "Epoch 00010: val_loss improved from 1.66644 to 1.65595, saving model to pool_model/pool_model-10-1.66.h5\n",
      "Epoch 11/25\n",
      "625/625 [==============================] - 7s 11ms/step - loss: 1.6359 - acc: 0.3960 - val_loss: 1.6505 - val_acc: 0.4013\n",
      "\n",
      "Epoch 00011: val_loss improved from 1.65595 to 1.65051, saving model to pool_model/pool_model-11-1.65.h5\n",
      "Epoch 12/25\n",
      "625/625 [==============================] - 7s 11ms/step - loss: 1.6261 - acc: 0.4037 - val_loss: 1.6324 - val_acc: 0.4050\n",
      "\n",
      "Epoch 00012: val_loss improved from 1.65051 to 1.63236, saving model to pool_model/pool_model-12-1.63.h5\n",
      "Epoch 13/25\n",
      "625/625 [==============================] - 7s 11ms/step - loss: 1.6166 - acc: 0.4055 - val_loss: 1.6167 - val_acc: 0.4186\n",
      "\n",
      "Epoch 00013: val_loss improved from 1.63236 to 1.61667, saving model to pool_model/pool_model-13-1.62.h5\n",
      "Epoch 14/25\n",
      "625/625 [==============================] - 7s 11ms/step - loss: 1.6076 - acc: 0.4109 - val_loss: 1.6160 - val_acc: 0.4100\n",
      "\n",
      "Epoch 00014: val_loss improved from 1.61667 to 1.61603, saving model to pool_model/pool_model-14-1.62.h5\n",
      "Epoch 15/25\n",
      "625/625 [==============================] - 7s 11ms/step - loss: 1.5997 - acc: 0.4112 - val_loss: 1.6101 - val_acc: 0.4130\n",
      "\n",
      "Epoch 00015: val_loss improved from 1.61603 to 1.61012, saving model to pool_model/pool_model-15-1.61.h5\n",
      "Epoch 16/25\n",
      "625/625 [==============================] - 7s 11ms/step - loss: 1.5929 - acc: 0.4145 - val_loss: 1.6053 - val_acc: 0.4174\n",
      "\n",
      "Epoch 00016: val_loss improved from 1.61012 to 1.60532, saving model to pool_model/pool_model-16-1.61.h5\n",
      "Epoch 17/25\n",
      "625/625 [==============================] - 7s 11ms/step - loss: 1.5857 - acc: 0.4217 - val_loss: 1.6311 - val_acc: 0.4121\n",
      "\n",
      "Epoch 00017: val_loss did not improve from 1.60532\n",
      "Epoch 18/25\n",
      "625/625 [==============================] - 7s 11ms/step - loss: 1.5789 - acc: 0.4232 - val_loss: 1.5930 - val_acc: 0.4234\n",
      "\n",
      "Epoch 00018: val_loss improved from 1.60532 to 1.59301, saving model to pool_model/pool_model-18-1.59.h5\n",
      "Epoch 19/25\n",
      "625/625 [==============================] - 9s 14ms/step - loss: 1.5741 - acc: 0.4254 - val_loss: 1.5984 - val_acc: 0.4235\n",
      "\n",
      "Epoch 00019: val_loss did not improve from 1.59301\n",
      "Epoch 20/25\n",
      "625/625 [==============================] - 8s 13ms/step - loss: 1.5702 - acc: 0.4255 - val_loss: 1.5988 - val_acc: 0.4226\n",
      "\n",
      "Epoch 00020: val_loss did not improve from 1.59301\n",
      "Epoch 21/25\n",
      "625/625 [==============================] - 7s 11ms/step - loss: 1.5628 - acc: 0.4302 - val_loss: 1.5931 - val_acc: 0.4249\n",
      "\n",
      "Epoch 00021: val_loss did not improve from 1.59301\n",
      "Epoch 22/25\n",
      "625/625 [==============================] - 7s 12ms/step - loss: 1.5598 - acc: 0.4309 - val_loss: 1.5700 - val_acc: 0.4366\n",
      "\n",
      "Epoch 00022: val_loss improved from 1.59301 to 1.56997, saving model to pool_model/pool_model-22-1.57.h5\n",
      "Epoch 23/25\n",
      "625/625 [==============================] - 8s 13ms/step - loss: 1.5544 - acc: 0.4329 - val_loss: 1.5807 - val_acc: 0.4300\n",
      "\n",
      "Epoch 00023: val_loss did not improve from 1.56997\n",
      "Epoch 24/25\n",
      "625/625 [==============================] - 9s 15ms/step - loss: 1.5505 - acc: 0.4357 - val_loss: 1.5811 - val_acc: 0.4315\n",
      "\n",
      "Epoch 00024: val_loss did not improve from 1.56997\n",
      "Epoch 25/25\n",
      "625/625 [==============================] - 11s 17ms/step - loss: 1.5462 - acc: 0.4366 - val_loss: 1.5707 - val_acc: 0.4334\n",
      "\n",
      "Epoch 00025: val_loss did not improve from 1.56997\n"
     ]
    }
   ],
   "source": [
    "hist_pooled = model_pooled.fit_generator(train_gen, epochs=epochs, steps_per_epoch=len(train_data)//batch_size, \n",
    "                           validation_data=val_gen, validation_steps=len(val_data)//batch_size, \n",
    "                           callbacks=callbacks, verbose=1)\n",
    "\n",
    "all_histories.append(hist_pooled)\n"
   ]
  },
  {
   "cell_type": "markdown",
   "metadata": {},
   "source": [
    "### Task 3.1 Dropout\n"
   ]
  },
  {
   "cell_type": "markdown",
   "metadata": {},
   "source": [
    "Modify the network by introducing dropout layer and train the model using __fit_generator__ function. "
   ]
  },
  {
   "cell_type": "code",
   "execution_count": 24,
   "metadata": {},
   "outputs": [
    {
     "name": "stdout",
     "output_type": "stream",
     "text": [
      "_________________________________________________________________\n",
      "Layer (type)                 Output Shape              Param #   \n",
      "=================================================================\n",
      "input_im (InputLayer)        (None, 32, 32, 3)         0         \n",
      "_________________________________________________________________\n",
      "conv2d_7 (Conv2D)            (None, 15, 15, 8)         224       \n",
      "_________________________________________________________________\n",
      "max_pooling2d_3 (MaxPooling2 (None, 7, 7, 8)           0         \n",
      "_________________________________________________________________\n",
      "conv2d_8 (Conv2D)            (None, 3, 3, 16)          1168      \n",
      "_________________________________________________________________\n",
      "max_pooling2d_4 (MaxPooling2 (None, 1, 1, 16)          0         \n",
      "_________________________________________________________________\n",
      "flatten_4 (Flatten)          (None, 16)                0         \n",
      "_________________________________________________________________\n",
      "dense_7 (Dense)              (None, 44)                748       \n",
      "_________________________________________________________________\n",
      "dropout_1 (Dropout)          (None, 44)                0         \n",
      "_________________________________________________________________\n",
      "dense_8 (Dense)              (None, 10)                450       \n",
      "=================================================================\n",
      "Total params: 2,590\n",
      "Trainable params: 2,590\n",
      "Non-trainable params: 0\n",
      "_________________________________________________________________\n"
     ]
    }
   ],
   "source": [
    "model_name = 'dropout_model'\n",
    "\n",
    "input_im = Input(shape=(input_shape), name='input_im')\n",
    "conv1 = Conv2D(8, kernel_size=(3, 3), strides = (2,2),  activation='relu')(input_im)\n",
    "maxPool1 = MaxPooling2D((2,2))(conv1)\n",
    "conv2 = Conv2D(16, (3, 3), strides = (2,2), activation='relu')(maxPool1)\n",
    "maxPool2 = MaxPooling2D((2,2))(conv2)\n",
    "flat = Flatten()(maxPool2)\n",
    "dense1 = Dense(44, activation='relu')(flat)\n",
    "dropOut = Dropout(rate=0.5)(dense1)\n",
    "output_class = Dense(num_classes, activation='softmax')(dropOut)\n",
    "\n",
    "model_dropout = Model(inputs=input_im, outputs=output_class)\n",
    "\n",
    "if not os.path.exists('./'+model_name):\n",
    "    os.mkdir(model_name)\n",
    "    \n",
    "adam = Adam(lr=0.001)\n",
    "model_dropout.compile(loss='categorical_crossentropy', \n",
    "              optimizer=adam, \n",
    "              metrics=['accuracy'])\n",
    "\n",
    "plot_model(model_dropout, model_name+'/'+model_name+'.png')\n",
    "model_dropout.summary()\n",
    "\n",
    "# save model"
   ]
  },
  {
   "cell_type": "code",
   "execution_count": 25,
   "metadata": {},
   "outputs": [],
   "source": [
    "checkpoint = ModelCheckpoint(model_name+'/'+model_name+'-{epoch:02d}-{val_loss:.2f}.h5', \n",
    "                             monitor='val_loss', verbose=1, save_best_only=True, mode='auto')\n",
    "cvslogger = CSVLogger(model_name+'/logs.csv', separator=',', append=True)\n",
    "tensorboard = LRTensorBoard(log_dir='./'+model_name, histogram_freq=0, write_graph=True, write_grads=1, \n",
    "                            batch_size=batch_size, write_images=True)\n",
    "\n",
    "callbacks = [checkpoint, tensorboard, cvslogger]"
   ]
  },
  {
   "cell_type": "code",
   "execution_count": 26,
   "metadata": {},
   "outputs": [],
   "source": [
    "train_gen = data_generator(train_data, batch_size = batch_size, preprocessing = 'method1')\n",
    "val_gen = data_generator(val_data, batch_size = batch_size, preprocessing = 'method1')\n",
    "test_gen = data_generator(test_data, batch_size = batch_size, preprocessing = 'method1')"
   ]
  },
  {
   "cell_type": "code",
   "execution_count": 27,
   "metadata": {
    "scrolled": true
   },
   "outputs": [
    {
     "name": "stdout",
     "output_type": "stream",
     "text": [
      "Epoch 1/25\n",
      "625/625 [==============================] - 9s 14ms/step - loss: 2.1607 - acc: 0.1833 - val_loss: 2.0340 - val_acc: 0.2411\n",
      "\n",
      "Epoch 00001: val_loss improved from inf to 2.03395, saving model to dropout_model/dropout_model-01-2.03.h5\n",
      "Epoch 2/25\n",
      "625/625 [==============================] - 9s 14ms/step - loss: 2.0134 - acc: 0.2396 - val_loss: 1.9323 - val_acc: 0.2791\n",
      "\n",
      "Epoch 00002: val_loss improved from 2.03395 to 1.93227, saving model to dropout_model/dropout_model-02-1.93.h5\n",
      "Epoch 3/25\n",
      "625/625 [==============================] - 7s 12ms/step - loss: 1.9481 - acc: 0.2614 - val_loss: 1.8881 - val_acc: 0.2938\n",
      "\n",
      "Epoch 00003: val_loss improved from 1.93227 to 1.88806, saving model to dropout_model/dropout_model-03-1.89.h5\n",
      "Epoch 4/25\n",
      "625/625 [==============================] - 9s 14ms/step - loss: 1.9128 - acc: 0.2822 - val_loss: 1.8598 - val_acc: 0.3092\n",
      "\n",
      "Epoch 00004: val_loss improved from 1.88806 to 1.85976, saving model to dropout_model/dropout_model-04-1.86.h5\n",
      "Epoch 5/25\n",
      "625/625 [==============================] - 7s 11ms/step - loss: 1.8765 - acc: 0.2938 - val_loss: 1.8355 - val_acc: 0.3178\n",
      "\n",
      "Epoch 00005: val_loss improved from 1.85976 to 1.83549, saving model to dropout_model/dropout_model-05-1.84.h5\n",
      "Epoch 6/25\n",
      "625/625 [==============================] - 7s 11ms/step - loss: 1.8511 - acc: 0.3066 - val_loss: 1.7879 - val_acc: 0.3383\n",
      "\n",
      "Epoch 00006: val_loss improved from 1.83549 to 1.78787, saving model to dropout_model/dropout_model-06-1.79.h5\n",
      "Epoch 7/25\n",
      "625/625 [==============================] - 7s 11ms/step - loss: 1.8252 - acc: 0.3200 - val_loss: 1.7629 - val_acc: 0.3458\n",
      "\n",
      "Epoch 00007: val_loss improved from 1.78787 to 1.76288, saving model to dropout_model/dropout_model-07-1.76.h5\n",
      "Epoch 8/25\n",
      "625/625 [==============================] - 7s 11ms/step - loss: 1.8052 - acc: 0.3304 - val_loss: 1.7424 - val_acc: 0.3592\n",
      "\n",
      "Epoch 00008: val_loss improved from 1.76288 to 1.74235, saving model to dropout_model/dropout_model-08-1.74.h5\n",
      "Epoch 9/25\n",
      "625/625 [==============================] - 7s 12ms/step - loss: 1.7946 - acc: 0.3300 - val_loss: 1.7401 - val_acc: 0.3663\n",
      "\n",
      "Epoch 00009: val_loss improved from 1.74235 to 1.74010, saving model to dropout_model/dropout_model-09-1.74.h5\n",
      "Epoch 10/25\n",
      "625/625 [==============================] - 7s 11ms/step - loss: 1.7745 - acc: 0.3427 - val_loss: 1.7111 - val_acc: 0.3724\n",
      "\n",
      "Epoch 00010: val_loss improved from 1.74010 to 1.71107, saving model to dropout_model/dropout_model-10-1.71.h5\n",
      "Epoch 11/25\n",
      "625/625 [==============================] - 11s 17ms/step - loss: 1.7651 - acc: 0.3462 - val_loss: 1.7017 - val_acc: 0.3747\n",
      "\n",
      "Epoch 00011: val_loss improved from 1.71107 to 1.70174, saving model to dropout_model/dropout_model-11-1.70.h5\n",
      "Epoch 12/25\n",
      "625/625 [==============================] - 9s 14ms/step - loss: 1.7553 - acc: 0.3504 - val_loss: 1.6899 - val_acc: 0.3793\n",
      "\n",
      "Epoch 00012: val_loss improved from 1.70174 to 1.68992, saving model to dropout_model/dropout_model-12-1.69.h5\n",
      "Epoch 13/25\n",
      "625/625 [==============================] - 9s 14ms/step - loss: 1.7458 - acc: 0.3519 - val_loss: 1.6932 - val_acc: 0.3830\n",
      "\n",
      "Epoch 00013: val_loss did not improve from 1.68992\n",
      "Epoch 14/25\n",
      "625/625 [==============================] - 10s 15ms/step - loss: 1.7394 - acc: 0.3557 - val_loss: 1.6837 - val_acc: 0.3816\n",
      "\n",
      "Epoch 00014: val_loss improved from 1.68992 to 1.68367, saving model to dropout_model/dropout_model-14-1.68.h5\n",
      "Epoch 15/25\n",
      "625/625 [==============================] - 9s 14ms/step - loss: 1.7335 - acc: 0.3591 - val_loss: 1.6636 - val_acc: 0.3904\n",
      "\n",
      "Epoch 00015: val_loss improved from 1.68367 to 1.66365, saving model to dropout_model/dropout_model-15-1.66.h5\n",
      "Epoch 16/25\n",
      "625/625 [==============================] - 9s 15ms/step - loss: 1.7254 - acc: 0.3632 - val_loss: 1.6768 - val_acc: 0.3821\n",
      "\n",
      "Epoch 00016: val_loss did not improve from 1.66365\n",
      "Epoch 17/25\n",
      "625/625 [==============================] - 8s 12ms/step - loss: 1.7234 - acc: 0.3619 - val_loss: 1.6567 - val_acc: 0.3994\n",
      "\n",
      "Epoch 00017: val_loss improved from 1.66365 to 1.65675, saving model to dropout_model/dropout_model-17-1.66.h5\n",
      "Epoch 18/25\n",
      "625/625 [==============================] - 9s 14ms/step - loss: 1.7126 - acc: 0.3649 - val_loss: 1.6599 - val_acc: 0.3988\n",
      "\n",
      "Epoch 00018: val_loss did not improve from 1.65675\n",
      "Epoch 19/25\n",
      "625/625 [==============================] - 11s 18ms/step - loss: 1.7114 - acc: 0.3684 - val_loss: 1.6554 - val_acc: 0.3927\n",
      "\n",
      "Epoch 00019: val_loss improved from 1.65675 to 1.65537, saving model to dropout_model/dropout_model-19-1.66.h5\n",
      "Epoch 20/25\n",
      "625/625 [==============================] - 11s 17ms/step - loss: 1.7113 - acc: 0.3692 - val_loss: 1.6461 - val_acc: 0.4010\n",
      "\n",
      "Epoch 00020: val_loss improved from 1.65537 to 1.64609, saving model to dropout_model/dropout_model-20-1.65.h5\n",
      "Epoch 21/25\n",
      "625/625 [==============================] - 10s 17ms/step - loss: 1.7055 - acc: 0.3740 - val_loss: 1.6462 - val_acc: 0.4008\n",
      "\n",
      "Epoch 00021: val_loss did not improve from 1.64609\n",
      "Epoch 22/25\n",
      "625/625 [==============================] - 9s 15ms/step - loss: 1.7017 - acc: 0.3732 - val_loss: 1.6511 - val_acc: 0.4009\n",
      "\n",
      "Epoch 00022: val_loss did not improve from 1.64609\n",
      "Epoch 23/25\n",
      "625/625 [==============================] - 8s 13ms/step - loss: 1.6983 - acc: 0.3789 - val_loss: 1.6457 - val_acc: 0.3953\n",
      "\n",
      "Epoch 00023: val_loss improved from 1.64609 to 1.64570, saving model to dropout_model/dropout_model-23-1.65.h5\n",
      "Epoch 24/25\n",
      "625/625 [==============================] - 7s 12ms/step - loss: 1.6929 - acc: 0.3767 - val_loss: 1.6302 - val_acc: 0.4035\n",
      "\n",
      "Epoch 00024: val_loss improved from 1.64570 to 1.63024, saving model to dropout_model/dropout_model-24-1.63.h5\n",
      "Epoch 25/25\n",
      "625/625 [==============================] - 8s 13ms/step - loss: 1.6901 - acc: 0.3780 - val_loss: 1.6367 - val_acc: 0.4030\n",
      "\n",
      "Epoch 00025: val_loss did not improve from 1.63024\n"
     ]
    }
   ],
   "source": [
    "hist_dropout = model_dropout.fit_generator(train_gen, epochs=epochs, steps_per_epoch=len(train_data)//batch_size, \n",
    "                           validation_data=val_gen, validation_steps=len(val_data)//batch_size, \n",
    "                           callbacks=callbacks, verbose=1)\n",
    "\n",
    "all_histories.append(hist_dropout)\n"
   ]
  },
  {
   "cell_type": "markdown",
   "metadata": {},
   "source": [
    "### Task 4.1 Batch Normalization"
   ]
  },
  {
   "cell_type": "markdown",
   "metadata": {},
   "source": [
    "Modify the network by introducing batch normalization layer and train the model. "
   ]
  },
  {
   "cell_type": "code",
   "execution_count": 28,
   "metadata": {},
   "outputs": [
    {
     "name": "stdout",
     "output_type": "stream",
     "text": [
      "_________________________________________________________________\n",
      "Layer (type)                 Output Shape              Param #   \n",
      "=================================================================\n",
      "input_im (InputLayer)        (None, 32, 32, 3)         0         \n",
      "_________________________________________________________________\n",
      "conv2d_9 (Conv2D)            (None, 15, 15, 8)         224       \n",
      "_________________________________________________________________\n",
      "conv2d_10 (Conv2D)           (None, 7, 7, 16)          1168      \n",
      "_________________________________________________________________\n",
      "max_pooling2d_5 (MaxPooling2 (None, 7, 7, 16)          0         \n",
      "_________________________________________________________________\n",
      "batch_normalization_1 (Batch (None, 7, 7, 16)          64        \n",
      "_________________________________________________________________\n",
      "conv2d_11 (Conv2D)           (None, 5, 5, 32)          4640      \n",
      "_________________________________________________________________\n",
      "max_pooling2d_6 (MaxPooling2 (None, 2, 2, 32)          0         \n",
      "_________________________________________________________________\n",
      "flatten_5 (Flatten)          (None, 128)               0         \n",
      "_________________________________________________________________\n",
      "dense_9 (Dense)              (None, 64)                8256      \n",
      "_________________________________________________________________\n",
      "batch_normalization_2 (Batch (None, 64)                256       \n",
      "_________________________________________________________________\n",
      "dense_10 (Dense)             (None, 10)                650       \n",
      "=================================================================\n",
      "Total params: 15,258\n",
      "Trainable params: 15,098\n",
      "Non-trainable params: 160\n",
      "_________________________________________________________________\n"
     ]
    }
   ],
   "source": [
    "# Add your code to complete this cell\n",
    "\n",
    "model_name = 'model_batch_normalized'\n",
    "if not os.path.exists('./'+model_name):\n",
    "    os.mkdir(model_name)\n",
    "    \n",
    "# ====================================================   \n",
    "input_im = Input(shape=(input_shape), name='input_im')\n",
    "\n",
    "conv1 = Conv2D(8, kernel_size=(3, 3), strides = (2,2),  activation='relu')(input_im)\n",
    "conv2 = Conv2D(16, (3, 3), strides = (2,2), activation='relu')(conv1)\n",
    "maxPool1 = MaxPooling2D((1,1))(conv2)\n",
    "normed1 = BatchNormalization()(maxPool1)\n",
    "\n",
    "conv3 = Conv2D(32, (3, 3), activation='relu')(normed1)\n",
    "maxPool2 = MaxPooling2D((2,2))(conv3)\n",
    "flat = Flatten()(maxPool2)\n",
    "dense = Dense(64, activation='relu')(flat)\n",
    "normed2 = BatchNormalization()(dense)\n",
    "\n",
    "output_class = Dense(num_classes, activation='softmax')(normed2)\n",
    "\n",
    "model_normalized = Model(inputs=input_im, outputs=output_class)\n",
    "# ====================================================\n",
    "\n",
    "adam = Adam(lr=0.001)\n",
    "model_normalized.compile(loss='categorical_crossentropy', \n",
    "              optimizer=adam, \n",
    "              metrics=['accuracy'])\n",
    "plot_model(model_normalized, model_name+'/'+model_name+'.png')\n",
    "model_normalized.summary()\n",
    "\n",
    "\n",
    "# save model"
   ]
  },
  {
   "cell_type": "code",
   "execution_count": 29,
   "metadata": {},
   "outputs": [],
   "source": [
    "checkpoint = ModelCheckpoint(model_name+'/'+model_name+'-{epoch:02d}-{val_loss:.2f}.h5', \n",
    "                             monitor='val_loss', verbose=1, save_best_only=True, mode='auto')\n",
    "cvslogger = CSVLogger(model_name+'/logs.csv', separator=',', append=True)\n",
    "tensorboard = LRTensorBoard(log_dir='./'+model_name, histogram_freq=0, write_graph=True, write_grads=1, \n",
    "                            batch_size=batch_size, write_images=True)\n",
    "\n",
    "callbacks = [checkpoint, tensorboard, cvslogger]"
   ]
  },
  {
   "cell_type": "code",
   "execution_count": 30,
   "metadata": {},
   "outputs": [],
   "source": [
    "train_gen = data_generator(train_data, batch_size = batch_size, preprocessing = 'method1')\n",
    "val_gen = data_generator(val_data, batch_size = batch_size, preprocessing = 'method1')\n",
    "test_gen = data_generator(test_data, batch_size = batch_size, preprocessing = 'method1')"
   ]
  },
  {
   "cell_type": "code",
   "execution_count": 31,
   "metadata": {
    "scrolled": true
   },
   "outputs": [
    {
     "name": "stdout",
     "output_type": "stream",
     "text": [
      "Epoch 1/25\n",
      "625/625 [==============================] - 13s 21ms/step - loss: 1.7183 - acc: 0.3804 - val_loss: 1.5866 - val_acc: 0.4382\n",
      "\n",
      "Epoch 00001: val_loss improved from inf to 1.58665, saving model to model_batch_normalized/model_batch_normalized-01-1.59.h5\n",
      "Epoch 2/25\n",
      "625/625 [==============================] - 12s 19ms/step - loss: 1.4361 - acc: 0.4851 - val_loss: 1.4158 - val_acc: 0.4937\n",
      "\n",
      "Epoch 00002: val_loss improved from 1.58665 to 1.41575, saving model to model_batch_normalized/model_batch_normalized-02-1.42.h5\n",
      "Epoch 3/25\n",
      "625/625 [==============================] - 12s 20ms/step - loss: 1.3280 - acc: 0.5282 - val_loss: 1.7101 - val_acc: 0.4246\n",
      "\n",
      "Epoch 00003: val_loss did not improve from 1.41575\n",
      "Epoch 4/25\n",
      "625/625 [==============================] - 12s 20ms/step - loss: 1.2597 - acc: 0.5501 - val_loss: 1.3007 - val_acc: 0.5412\n",
      "\n",
      "Epoch 00004: val_loss improved from 1.41575 to 1.30069, saving model to model_batch_normalized/model_batch_normalized-04-1.30.h5\n",
      "Epoch 5/25\n",
      "625/625 [==============================] - 13s 20ms/step - loss: 1.2103 - acc: 0.5754 - val_loss: 1.3383 - val_acc: 0.5249\n",
      "\n",
      "Epoch 00005: val_loss did not improve from 1.30069\n",
      "Epoch 6/25\n",
      "625/625 [==============================] - 12s 20ms/step - loss: 1.1759 - acc: 0.5828 - val_loss: 1.2533 - val_acc: 0.5564\n",
      "\n",
      "Epoch 00006: val_loss improved from 1.30069 to 1.25328, saving model to model_batch_normalized/model_batch_normalized-06-1.25.h5\n",
      "Epoch 7/25\n",
      "625/625 [==============================] - 12s 19ms/step - loss: 1.1433 - acc: 0.5977 - val_loss: 1.3608 - val_acc: 0.5173\n",
      "\n",
      "Epoch 00007: val_loss did not improve from 1.25328\n",
      "Epoch 8/25\n",
      "625/625 [==============================] - 12s 20ms/step - loss: 1.1143 - acc: 0.6092 - val_loss: 1.2954 - val_acc: 0.5474\n",
      "\n",
      "Epoch 00008: val_loss did not improve from 1.25328\n",
      "Epoch 9/25\n",
      "625/625 [==============================] - 12s 20ms/step - loss: 1.0936 - acc: 0.6146 - val_loss: 1.2313 - val_acc: 0.5700\n",
      "\n",
      "Epoch 00009: val_loss improved from 1.25328 to 1.23134, saving model to model_batch_normalized/model_batch_normalized-09-1.23.h5\n",
      "Epoch 10/25\n",
      "625/625 [==============================] - 12s 20ms/step - loss: 1.0709 - acc: 0.6247 - val_loss: 1.3837 - val_acc: 0.5386\n",
      "\n",
      "Epoch 00010: val_loss did not improve from 1.23134\n",
      "Epoch 11/25\n",
      "625/625 [==============================] - 12s 20ms/step - loss: 1.0542 - acc: 0.6276 - val_loss: 1.2243 - val_acc: 0.5751\n",
      "\n",
      "Epoch 00011: val_loss improved from 1.23134 to 1.22427, saving model to model_batch_normalized/model_batch_normalized-11-1.22.h5\n",
      "Epoch 12/25\n",
      "625/625 [==============================] - 12s 20ms/step - loss: 1.0397 - acc: 0.6373 - val_loss: 1.1907 - val_acc: 0.5886\n",
      "\n",
      "Epoch 00012: val_loss improved from 1.22427 to 1.19065, saving model to model_batch_normalized/model_batch_normalized-12-1.19.h5\n",
      "Epoch 13/25\n",
      "625/625 [==============================] - 12s 20ms/step - loss: 1.0253 - acc: 0.6384 - val_loss: 1.1950 - val_acc: 0.5872\n",
      "\n",
      "Epoch 00013: val_loss did not improve from 1.19065\n",
      "Epoch 14/25\n",
      "625/625 [==============================] - 12s 20ms/step - loss: 1.0105 - acc: 0.6445 - val_loss: 1.2055 - val_acc: 0.5869\n",
      "\n",
      "Epoch 00014: val_loss did not improve from 1.19065\n",
      "Epoch 15/25\n",
      "625/625 [==============================] - 12s 20ms/step - loss: 0.9957 - acc: 0.6505 - val_loss: 1.2357 - val_acc: 0.5779\n",
      "\n",
      "Epoch 00015: val_loss did not improve from 1.19065\n",
      "Epoch 16/25\n",
      "625/625 [==============================] - 12s 20ms/step - loss: 0.9867 - acc: 0.6528 - val_loss: 1.2071 - val_acc: 0.5906\n",
      "\n",
      "Epoch 00016: val_loss did not improve from 1.19065\n",
      "Epoch 17/25\n",
      "625/625 [==============================] - 12s 20ms/step - loss: 0.9753 - acc: 0.6567 - val_loss: 1.2328 - val_acc: 0.5835\n",
      "\n",
      "Epoch 00017: val_loss did not improve from 1.19065\n",
      "Epoch 18/25\n",
      "625/625 [==============================] - 12s 20ms/step - loss: 0.9664 - acc: 0.6602 - val_loss: 1.2517 - val_acc: 0.5726\n",
      "\n",
      "Epoch 00018: val_loss did not improve from 1.19065\n",
      "Epoch 19/25\n",
      "625/625 [==============================] - 12s 20ms/step - loss: 0.9569 - acc: 0.6645 - val_loss: 1.1660 - val_acc: 0.6024\n",
      "\n",
      "Epoch 00019: val_loss improved from 1.19065 to 1.16603, saving model to model_batch_normalized/model_batch_normalized-19-1.17.h5\n",
      "Epoch 20/25\n",
      "625/625 [==============================] - 12s 20ms/step - loss: 0.9476 - acc: 0.6658 - val_loss: 1.1812 - val_acc: 0.5964\n",
      "\n",
      "Epoch 00020: val_loss did not improve from 1.16603\n",
      "Epoch 21/25\n",
      "625/625 [==============================] - 12s 20ms/step - loss: 0.9386 - acc: 0.6692 - val_loss: 1.2633 - val_acc: 0.5724\n",
      "\n",
      "Epoch 00021: val_loss did not improve from 1.16603\n",
      "Epoch 22/25\n",
      "625/625 [==============================] - 12s 20ms/step - loss: 0.9326 - acc: 0.6731 - val_loss: 1.1818 - val_acc: 0.5990\n",
      "\n",
      "Epoch 00022: val_loss did not improve from 1.16603\n",
      "Epoch 23/25\n",
      "625/625 [==============================] - 12s 20ms/step - loss: 0.9212 - acc: 0.6772 - val_loss: 1.2830 - val_acc: 0.5739\n",
      "\n",
      "Epoch 00023: val_loss did not improve from 1.16603\n",
      "Epoch 24/25\n",
      "625/625 [==============================] - 12s 20ms/step - loss: 0.9158 - acc: 0.6775 - val_loss: 1.2579 - val_acc: 0.5748\n",
      "\n",
      "Epoch 00024: val_loss did not improve from 1.16603\n",
      "Epoch 25/25\n",
      "625/625 [==============================] - 13s 20ms/step - loss: 0.9059 - acc: 0.6806 - val_loss: 1.1687 - val_acc: 0.6054\n",
      "\n",
      "Epoch 00025: val_loss did not improve from 1.16603\n"
     ]
    }
   ],
   "source": [
    "hist_normalized = model_normalized.fit_generator(train_gen, epochs=epochs, steps_per_epoch=len(train_data)//batch_size, \n",
    "                           validation_data=val_gen, validation_steps=len(val_data)//batch_size, \n",
    "                           callbacks=callbacks, verbose=1)\n",
    "\n",
    "all_histories.append(hist_normalized)\n"
   ]
  },
  {
   "cell_type": "markdown",
   "metadata": {},
   "source": [
    "### Task 5.1 Comparision of all model\n"
   ]
  },
  {
   "cell_type": "markdown",
   "metadata": {},
   "source": [
    "\n",
    "In this task you need to plot the loss and accuracy for all models and __discuss__ which model has better performance and why.   "
   ]
  },
  {
   "cell_type": "code",
   "execution_count": 32,
   "metadata": {},
   "outputs": [],
   "source": [
    "# plot Accuracy of all models\n",
    "def plotHistory(histories, names, metric):\n",
    "    plt.clf() \n",
    "    x_axis = list(range(epochs))\n",
    "    for hist, name in zip(histories, names):\n",
    "        plt.plot(x_axis, hist.history[metric], label=metric+'_'+name)\n",
    "        plt.scatter(x_axis, hist.history[metric])\n",
    "    plt.legend()\n",
    "    plt.title(metric)\n",
    "    plt.show()\n"
   ]
  },
  {
   "cell_type": "code",
   "execution_count": 33,
   "metadata": {},
   "outputs": [
    {
     "data": {
      "image/png": "[encoded data removed]",
      "text/plain": [
       "<Figure size 432x288 with 1 Axes>"
      ]
     },
     "metadata": {
      "needs_background": "light"
     },
     "output_type": "display_data"
    },
    {
     "data": {
      "image/png": "[encoded data removed]",
      "text/plain": [
       "<Figure size 432x288 with 1 Axes>"
      ]
     },
     "metadata": {
      "needs_background": "light"
     },
     "output_type": "display_data"
    },
    {
     "data": {
      "image/png": "[encoded data removed]",
      "text/plain": [
       "<Figure size 432x288 with 1 Axes>"
      ]
     },
     "metadata": {
      "needs_background": "light"
     },
     "output_type": "display_data"
    },
    {
     "data": {
      "image/png": "[encoded data removed]",
      "text/plain": [
       "<Figure size 432x288 with 1 Axes>"
      ]
     },
     "metadata": {
      "needs_background": "light"
     },
     "output_type": "display_data"
    }
   ],
   "source": [
    "names = ['initial', 'preprocessed', 'pooled','dropout','batch_normalized']\n",
    "plotHistory(all_histories, names, 'acc')\n",
    "plotHistory(all_histories, names, 'loss')\n",
    "plotHistory(all_histories, names, 'val_loss')\n",
    "plotHistory(all_histories, names, 'val_acc')\n",
    "# plotLosses(all_histories, names)"
   ]
  },
  {
   "cell_type": "markdown",
   "metadata": {},
   "source": [
    "#### Tensorboard \n"
   ]
  },
  {
   "cell_type": "markdown",
   "metadata": {},
   "source": [
    "You can run TensorBoard using the following command\n",
    "```tensorboard --logdir=path/to/log-directory\n",
    "```\n",
    "Now for logs of all above trained models, take snapshot of the _loss_ and _accuracy_ plots and save in the directory where this notebook is. To show that saved plot here in notebook use following command in _markdown_ cell. \n",
    "<br> __![](path_to_image)__\n",
    "\n",
    "- Tensorboard plot of accuracies:\n",
    "!['loss'](loss.png)\n",
    "\n",
    "- Tensorboard plot of accuracies:\n",
    "!['Accuracy](acc.png)\n"
   ]
  },
  {
   "cell_type": "markdown",
   "metadata": {},
   "source": [
    "Tensorboard plots - stepwise\n",
    "\n",
    "!['Tensorboard'](tensorboard.png)\n"
   ]
  },
  {
   "cell_type": "markdown",
   "metadata": {},
   "source": [
    "Tensorboard plots - relative\n",
    "\n",
    "!['Tensorboard'](tensorboard_relative.png)\n"
   ]
  },
  {
   "cell_type": "markdown",
   "metadata": {},
   "source": [
    "###### ADD Your Comments here"
   ]
  },
  {
   "cell_type": "markdown",
   "metadata": {},
   "source": [
    "The first thing to notice is that as my batch normalization plot is way larger and more complex than the rest, it takes much more time per epoch (almost 3 times as much time per epoch) as compared to the other models. \n",
    "\n",
    "As far as simple loss and accuracy are concerned, the initial model which is the least complex is working the best, however, if the val_loss and the val_acc is also looked at, in that case the preprocessed version and the batch_normalized versions are working better than the initial model. This goes to show that since the initial model is the least complex, it is able to converge much more quickly, but as a result of that it is overfitting the training set. Because of this the preprocessed model is chosen by me as the best, since it minimized the losses, maximises the accuracies, and does it more quickly than batch_normalization\n",
    "\n",
    "Why the model using Dropout and Pooling is not good is unclear to me completely. When Pooling is added as a layer to batch_normalization it performs good, but on its own Pooling makes the model worse. Similarly adding dropout to pooling makes it worse. To better investigate this it would be a good idea to also store the weights and biases in a format that tensorboard can read (I wasn't sure if we were supposed to do this in this assignment but I know it is possible in tensorboard) so that we can visualize the distributions of the weights and biases so that we know if they either become too small, or they have too high of a variance. From what we know about Pooling, since I am using MaxPooling it's possible that the inputs of that layer eventually become too large, which causes the absolute error to be too large. Adding dropout does nothing to change this, but adding batch_normalization normalizes these values into a more usable range."
   ]
  },
  {
   "cell_type": "markdown",
   "metadata": {},
   "source": [
    "### Task 5.2 Visualize Activations"
   ]
  },
  {
   "cell_type": "markdown",
   "metadata": {},
   "source": [
    "In this task, you are required to visualize the activations (outputs) of both the convolution layers of a model. For help, please refer to __Tutorials__"
   ]
  },
  {
   "cell_type": "code",
   "execution_count": 34,
   "metadata": {},
   "outputs": [
    {
     "data": {
      "text/plain": [
       "array([3])"
      ]
     },
     "execution_count": 34,
     "metadata": {},
     "output_type": "execute_result"
    },
    {
     "data": {
      "image/png": "[encoded data removed]",
      "text/plain": [
       "<Figure size 432x288 with 1 Axes>"
      ]
     },
     "metadata": {
      "needs_background": "light"
     },
     "output_type": "display_data"
    }
   ],
   "source": [
    "test_image = get_image('./cifar/train/18_bird.png')\n",
    "plt.imshow(test_image);\n",
    "plt.gca().grid(False);\n",
    "\n",
    "test_reshaped = test_image.reshape((1,32,32,3))\n",
    "model_initial.predict(test_reshaped).argmax(axis=1)\n",
    "# 3 is the index for a cat"
   ]
  },
  {
   "cell_type": "code",
   "execution_count": 35,
   "metadata": {},
   "outputs": [],
   "source": [
    "model_conv1 = Model(inputs=model_initial.get_layer('input_im').output, \n",
    "                  outputs=model_initial.get_layer('conv2d_1').output)"
   ]
  },
  {
   "cell_type": "code",
   "execution_count": 36,
   "metadata": {},
   "outputs": [
    {
     "data": {
      "text/plain": [
       "(1, 15, 15, 8)"
      ]
     },
     "execution_count": 36,
     "metadata": {},
     "output_type": "execute_result"
    }
   ],
   "source": [
    "con1_activations = model_conv1.predict(test_reshaped)\n",
    "con1_activations.shape"
   ]
  },
  {
   "cell_type": "code",
   "execution_count": 37,
   "metadata": {},
   "outputs": [
    {
     "data": {
      "image/png": "[encoded data removed]",
      "text/plain": [
       "<Figure size 1200x640 with 8 Axes>"
      ]
     },
     "metadata": {
      "needs_background": "light"
     },
     "output_type": "display_data"
    }
   ],
   "source": [
    "fig, axes = plt.subplots(nrows=2, ncols=4, figsize=(15,8), dpi=80)\n",
    "\n",
    "for i,ax in enumerate(axes.flatten()):\n",
    "    ax.imshow(con1_activations[0,:,:,i]);\n",
    "    ax.grid(False);\n",
    "    ax.axis('off');"
   ]
  },
  {
   "cell_type": "code",
   "execution_count": 38,
   "metadata": {},
   "outputs": [],
   "source": [
    "model_conv2 = Model(inputs=model_initial.get_layer('input_im').output, \n",
    "                  outputs=model_initial.get_layer('conv2d_2').output)"
   ]
  },
  {
   "cell_type": "code",
   "execution_count": 39,
   "metadata": {},
   "outputs": [
    {
     "data": {
      "text/plain": [
       "(1, 7, 7, 16)"
      ]
     },
     "execution_count": 39,
     "metadata": {},
     "output_type": "execute_result"
    }
   ],
   "source": [
    "con2_activations = model_conv2.predict(test_reshaped)\n",
    "con2_activations.shape"
   ]
  },
  {
   "cell_type": "code",
   "execution_count": 40,
   "metadata": {},
   "outputs": [
    {
     "data": {
      "image/png": "[encoded data removed]",
      "text/plain": [
       "<Figure size 1200x1200 with 16 Axes>"
      ]
     },
     "metadata": {
      "needs_background": "light"
     },
     "output_type": "display_data"
    }
   ],
   "source": [
    "fig, axes = plt.subplots(nrows=4, ncols=4, figsize=(15,15), dpi=80)\n",
    "\n",
    "for i,ax in enumerate(axes.flatten()):\n",
    "    ax.imshow(con2_activations[0,:,:,i]);\n",
    "    ax.grid(False);\n",
    "    ax.axis('off');"
   ]
  },
  {
   "cell_type": "markdown",
   "metadata": {},
   "source": [
    "### Task 6.1  Effect of learning rate"
   ]
  },
  {
   "cell_type": "markdown",
   "metadata": {},
   "source": [
    "Take the best selected model in __Task 5.1__ and change its learning rate to: \n",
    "- 6.1.1 any value between 5 and 1.\n",
    "- 6.1.2 learning rate = any value between 0.6 and  0.1 \n",
    "- 6.1.3 learning rate = 0.00001\n",
    "\n",
    "and train these three models to compare the effect learning rate."
   ]
  },
  {
   "cell_type": "code",
   "execution_count": 41,
   "metadata": {},
   "outputs": [],
   "source": [
    "def runBest(learning_rates):\n",
    "    histories = []\n",
    "    for lr in learning_rates:\n",
    "        input_im = Input(shape=(input_shape), name='input_im')\n",
    "        conv1 = Conv2D(8, kernel_size=(3, 3), strides = (2,2),  activation='relu')(input_im)\n",
    "        conv2 = Conv2D(16, (3, 3), strides = (2,2), activation='relu')(conv1)\n",
    "        flat = Flatten()(conv2)\n",
    "        dense1 = Dense(44, activation='relu')(flat)\n",
    "        output_class = Dense(num_classes, activation='softmax')(dense1)\n",
    "\n",
    "        model_preprocessed = Model(inputs=input_im, outputs=output_class)\n",
    "\n",
    "        model_name = 'model_preprocessed_' + str(lr)\n",
    "\n",
    "        if not os.path.exists('./'+model_name):\n",
    "            os.mkdir(model_name)\n",
    "\n",
    "        adam = Adam(lr=lr)\n",
    "        model_preprocessed.compile(loss='categorical_crossentropy', \n",
    "                      optimizer=adam, \n",
    "                      metrics=['accuracy'])\n",
    "\n",
    "        plot_model(model_preprocessed, model_name+'/'+model_name+'.png')\n",
    "\n",
    "        checkpoint = ModelCheckpoint(model_name+'/'+model_name+'-{epoch:02d}-{val_loss:.2f}.h5', \n",
    "                                     monitor='val_loss', verbose=1, save_best_only=True, mode='auto')\n",
    "        cvslogger = CSVLogger(model_name+'/logs.csv', separator=',', append=True)\n",
    "        tensorboard = LRTensorBoard(log_dir='./'+model_name, histogram_freq=0, write_graph=True, write_grads=1, \n",
    "                                    batch_size=batch_size, write_images=True)\n",
    "\n",
    "        callbacks = [checkpoint, tensorboard, cvslogger]\n",
    "        \n",
    "        train_gen = data_generator(train_data, batch_size = batch_size, preprocessing = 'method1')\n",
    "        val_gen = data_generator(val_data, batch_size = batch_size, preprocessing = 'method1')\n",
    "        test_gen = data_generator(test_data, batch_size = batch_size, preprocessing = 'method1')\n",
    "\n",
    "        hist_preprocessed = model_preprocessed.fit_generator(train_gen, epochs=epochs, steps_per_epoch=len(train_data)//batch_size, \n",
    "                                   validation_data=val_gen, validation_steps=len(val_data)//batch_size, \n",
    "                                   callbacks=callbacks, verbose=1)\n",
    "        histories.append(hist_preprocessed)\n",
    "        \n",
    "    return histories\n",
    "        "
   ]
  },
  {
   "cell_type": "code",
   "execution_count": 42,
   "metadata": {},
   "outputs": [
    {
     "name": "stdout",
     "output_type": "stream",
     "text": [
      "Epoch 1/25\n",
      "625/625 [==============================] - 8s 12ms/step - loss: 14.3943 - acc: 0.1057 - val_loss: 14.3310 - val_acc: 0.1109\n",
      "\n",
      "Epoch 00001: val_loss improved from inf to 14.33096, saving model to model_preprocessed_2.5/model_preprocessed_2.5-01-14.33.h5\n",
      "Epoch 2/25\n",
      "625/625 [==============================] - 8s 12ms/step - loss: 14.4104 - acc: 0.1060 - val_loss: 14.3310 - val_acc: 0.1109\n",
      "\n",
      "Epoch 00002: val_loss did not improve from 14.33096\n",
      "Epoch 3/25\n",
      "625/625 [==============================] - 8s 12ms/step - loss: 14.4104 - acc: 0.1060 - val_loss: 14.3310 - val_acc: 0.1109\n",
      "\n",
      "Epoch 00003: val_loss did not improve from 14.33096\n",
      "Epoch 4/25\n",
      "625/625 [==============================] - 8s 12ms/step - loss: 14.4104 - acc: 0.1060 - val_loss: 14.3310 - val_acc: 0.1109\n",
      "\n",
      "Epoch 00004: val_loss did not improve from 14.33096\n",
      "Epoch 5/25\n",
      "625/625 [==============================] - 8s 12ms/step - loss: 14.4104 - acc: 0.1060 - val_loss: 14.3310 - val_acc: 0.1109\n",
      "\n",
      "Epoch 00005: val_loss did not improve from 14.33096\n",
      "Epoch 6/25\n",
      "625/625 [==============================] - 8s 12ms/step - loss: 14.4104 - acc: 0.1060 - val_loss: 14.3310 - val_acc: 0.1109\n",
      "\n",
      "Epoch 00006: val_loss did not improve from 14.33096\n",
      "Epoch 7/25\n",
      "625/625 [==============================] - 8s 12ms/step - loss: 14.4104 - acc: 0.1060 - val_loss: 14.3310 - val_acc: 0.1109\n",
      "\n",
      "Epoch 00007: val_loss did not improve from 14.33096\n",
      "Epoch 8/25\n",
      "625/625 [==============================] - 8s 12ms/step - loss: 14.4104 - acc: 0.1060 - val_loss: 14.3310 - val_acc: 0.1109\n",
      "\n",
      "Epoch 00008: val_loss did not improve from 14.33096\n",
      "Epoch 9/25\n",
      "625/625 [==============================] - 8s 12ms/step - loss: 14.4104 - acc: 0.1060 - val_loss: 14.3310 - val_acc: 0.1109\n",
      "\n",
      "Epoch 00009: val_loss did not improve from 14.33096\n",
      "Epoch 10/25\n",
      "625/625 [==============================] - 8s 12ms/step - loss: 14.4104 - acc: 0.1060 - val_loss: 14.3310 - val_acc: 0.1109\n",
      "\n",
      "Epoch 00010: val_loss did not improve from 14.33096\n",
      "Epoch 11/25\n",
      "625/625 [==============================] - 8s 12ms/step - loss: 14.4104 - acc: 0.1060 - val_loss: 14.3310 - val_acc: 0.1109\n",
      "\n",
      "Epoch 00011: val_loss did not improve from 14.33096\n",
      "Epoch 12/25\n",
      "625/625 [==============================] - 8s 12ms/step - loss: 14.4104 - acc: 0.1060 - val_loss: 14.3310 - val_acc: 0.1109\n",
      "\n",
      "Epoch 00012: val_loss did not improve from 14.33096\n",
      "Epoch 13/25\n",
      "625/625 [==============================] - 8s 12ms/step - loss: 14.4104 - acc: 0.1060 - val_loss: 14.3310 - val_acc: 0.1109\n",
      "\n",
      "Epoch 00013: val_loss did not improve from 14.33096\n",
      "Epoch 14/25\n",
      "625/625 [==============================] - 8s 12ms/step - loss: 14.4104 - acc: 0.1060 - val_loss: 14.3310 - val_acc: 0.1109\n",
      "\n",
      "Epoch 00014: val_loss did not improve from 14.33096\n",
      "Epoch 15/25\n",
      "625/625 [==============================] - 8s 12ms/step - loss: 14.4104 - acc: 0.1060 - val_loss: 14.3310 - val_acc: 0.1109\n",
      "\n",
      "Epoch 00015: val_loss did not improve from 14.33096\n",
      "Epoch 16/25\n",
      "625/625 [==============================] - 8s 12ms/step - loss: 14.4104 - acc: 0.1060 - val_loss: 14.3310 - val_acc: 0.1109\n",
      "\n",
      "Epoch 00016: val_loss did not improve from 14.33096\n",
      "Epoch 17/25\n",
      "625/625 [==============================] - 8s 12ms/step - loss: 14.4104 - acc: 0.1060 - val_loss: 14.3310 - val_acc: 0.1109\n",
      "\n",
      "Epoch 00017: val_loss did not improve from 14.33096\n",
      "Epoch 18/25\n",
      "625/625 [==============================] - 8s 12ms/step - loss: 14.4104 - acc: 0.1060 - val_loss: 14.3310 - val_acc: 0.1109\n",
      "\n",
      "Epoch 00018: val_loss did not improve from 14.33096\n",
      "Epoch 19/25\n",
      "625/625 [==============================] - 8s 12ms/step - loss: 14.4104 - acc: 0.1060 - val_loss: 14.3310 - val_acc: 0.1109\n",
      "\n",
      "Epoch 00019: val_loss did not improve from 14.33096\n",
      "Epoch 20/25\n",
      "625/625 [==============================] - 8s 12ms/step - loss: 14.4104 - acc: 0.1060 - val_loss: 14.3310 - val_acc: 0.1109\n",
      "\n",
      "Epoch 00020: val_loss did not improve from 14.33096\n",
      "Epoch 21/25\n",
      "625/625 [==============================] - 8s 12ms/step - loss: 14.4104 - acc: 0.1060 - val_loss: 14.3310 - val_acc: 0.1109\n",
      "\n",
      "Epoch 00021: val_loss did not improve from 14.33096\n",
      "Epoch 22/25\n",
      "625/625 [==============================] - 8s 12ms/step - loss: 14.4104 - acc: 0.1060 - val_loss: 14.3310 - val_acc: 0.1109\n",
      "\n",
      "Epoch 00022: val_loss did not improve from 14.33096\n",
      "Epoch 23/25\n",
      "625/625 [==============================] - 8s 12ms/step - loss: 14.4104 - acc: 0.1060 - val_loss: 14.3310 - val_acc: 0.1109\n",
      "\n",
      "Epoch 00023: val_loss did not improve from 14.33096\n",
      "Epoch 24/25\n",
      "625/625 [==============================] - 8s 13ms/step - loss: 14.4104 - acc: 0.1060 - val_loss: 14.3310 - val_acc: 0.1109\n",
      "\n",
      "Epoch 00024: val_loss did not improve from 14.33096\n",
      "Epoch 25/25\n",
      "625/625 [==============================] - 8s 12ms/step - loss: 14.4104 - acc: 0.1060 - val_loss: 14.3310 - val_acc: 0.1109\n",
      "\n",
      "Epoch 00025: val_loss did not improve from 14.33096\n",
      "Epoch 1/25\n",
      "625/625 [==============================] - 8s 13ms/step - loss: 14.4955 - acc: 0.0994 - val_loss: 14.4795 - val_acc: 0.1017\n",
      "\n",
      "Epoch 00001: val_loss improved from inf to 14.47949, saving model to model_preprocessed_0.4/model_preprocessed_0.4-01-14.48.h5\n",
      "Epoch 2/25\n",
      "625/625 [==============================] - 8s 12ms/step - loss: 14.5123 - acc: 0.0996 - val_loss: 14.4795 - val_acc: 0.1017\n",
      "\n",
      "Epoch 00002: val_loss did not improve from 14.47949\n",
      "Epoch 3/25\n",
      "625/625 [==============================] - 8s 12ms/step - loss: 14.5123 - acc: 0.0996 - val_loss: 14.4795 - val_acc: 0.1017\n",
      "\n",
      "Epoch 00003: val_loss did not improve from 14.47949\n",
      "Epoch 4/25\n",
      "625/625 [==============================] - 8s 12ms/step - loss: 14.5123 - acc: 0.0996 - val_loss: 14.4795 - val_acc: 0.1017\n",
      "\n",
      "Epoch 00004: val_loss did not improve from 14.47949\n",
      "Epoch 5/25\n",
      "625/625 [==============================] - 8s 12ms/step - loss: 14.5123 - acc: 0.0996 - val_loss: 14.4795 - val_acc: 0.1017\n",
      "\n",
      "Epoch 00005: val_loss did not improve from 14.47949\n",
      "Epoch 6/25\n",
      "625/625 [==============================] - 8s 12ms/step - loss: 14.5123 - acc: 0.0996 - val_loss: 14.4795 - val_acc: 0.1017\n",
      "\n",
      "Epoch 00006: val_loss did not improve from 14.47949\n",
      "Epoch 7/25\n",
      "625/625 [==============================] - 8s 12ms/step - loss: 14.5123 - acc: 0.0996 - val_loss: 14.4795 - val_acc: 0.1017\n",
      "\n",
      "Epoch 00007: val_loss did not improve from 14.47949\n",
      "Epoch 8/25\n",
      "625/625 [==============================] - 8s 12ms/step - loss: 14.5123 - acc: 0.0996 - val_loss: 14.4795 - val_acc: 0.1017\n",
      "\n",
      "Epoch 00008: val_loss did not improve from 14.47949\n",
      "Epoch 9/25\n",
      "625/625 [==============================] - 8s 12ms/step - loss: 14.5123 - acc: 0.0996 - val_loss: 14.4795 - val_acc: 0.1017\n",
      "\n",
      "Epoch 00009: val_loss did not improve from 14.47949\n",
      "Epoch 10/25\n",
      "625/625 [==============================] - 8s 12ms/step - loss: 14.5123 - acc: 0.0996 - val_loss: 14.4795 - val_acc: 0.1017\n",
      "\n",
      "Epoch 00010: val_loss did not improve from 14.47949\n",
      "Epoch 11/25\n",
      "625/625 [==============================] - 8s 12ms/step - loss: 14.5123 - acc: 0.0996 - val_loss: 14.4795 - val_acc: 0.1017\n",
      "\n",
      "Epoch 00011: val_loss did not improve from 14.47949\n",
      "Epoch 12/25\n",
      "625/625 [==============================] - 10s 15ms/step - loss: 14.5123 - acc: 0.0996 - val_loss: 14.4795 - val_acc: 0.1017\n",
      "\n",
      "Epoch 00012: val_loss did not improve from 14.47949\n",
      "Epoch 13/25\n",
      "625/625 [==============================] - 9s 15ms/step - loss: 14.5123 - acc: 0.0996 - val_loss: 14.4795 - val_acc: 0.1017\n",
      "\n",
      "Epoch 00013: val_loss did not improve from 14.47949\n",
      "Epoch 14/25\n",
      "625/625 [==============================] - 10s 16ms/step - loss: 14.5123 - acc: 0.0996 - val_loss: 14.4795 - val_acc: 0.1017\n",
      "\n",
      "Epoch 00014: val_loss did not improve from 14.47949\n",
      "Epoch 15/25\n",
      "625/625 [==============================] - 13s 20ms/step - loss: 14.5123 - acc: 0.0996 - val_loss: 14.4795 - val_acc: 0.1017\n",
      "\n",
      "Epoch 00015: val_loss did not improve from 14.47949\n",
      "Epoch 16/25\n",
      "625/625 [==============================] - 13s 20ms/step - loss: 14.5123 - acc: 0.0996 - val_loss: 14.4795 - val_acc: 0.1017\n",
      "\n",
      "Epoch 00016: val_loss did not improve from 14.47949\n",
      "Epoch 17/25\n",
      "625/625 [==============================] - 12s 20ms/step - loss: 14.5123 - acc: 0.0996 - val_loss: 14.4795 - val_acc: 0.1017\n",
      "\n",
      "Epoch 00017: val_loss did not improve from 14.47949\n",
      "Epoch 18/25\n",
      "625/625 [==============================] - 10s 15ms/step - loss: 14.5123 - acc: 0.0996 - val_loss: 14.4795 - val_acc: 0.1017\n"
     ]
    },
    {
     "name": "stdout",
     "output_type": "stream",
     "text": [
      "\n",
      "Epoch 00018: val_loss did not improve from 14.47949\n",
      "Epoch 19/25\n",
      "625/625 [==============================] - 9s 15ms/step - loss: 14.5123 - acc: 0.0996 - val_loss: 14.4795 - val_acc: 0.1017\n",
      "\n",
      "Epoch 00019: val_loss did not improve from 14.47949\n",
      "Epoch 20/25\n",
      "625/625 [==============================] - 9s 14ms/step - loss: 14.5123 - acc: 0.0996 - val_loss: 14.4795 - val_acc: 0.1017\n",
      "\n",
      "Epoch 00020: val_loss did not improve from 14.47949\n",
      "Epoch 21/25\n",
      "625/625 [==============================] - 9s 15ms/step - loss: 14.5123 - acc: 0.0996 - val_loss: 14.4795 - val_acc: 0.1017\n",
      "\n",
      "Epoch 00021: val_loss did not improve from 14.47949\n",
      "Epoch 22/25\n",
      "625/625 [==============================] - 11s 17ms/step - loss: 14.5123 - acc: 0.0996 - val_loss: 14.4795 - val_acc: 0.1017\n",
      "\n",
      "Epoch 00022: val_loss did not improve from 14.47949\n",
      "Epoch 23/25\n",
      "625/625 [==============================] - 11s 17ms/step - loss: 14.5123 - acc: 0.0996 - val_loss: 14.4795 - val_acc: 0.1017\n",
      "\n",
      "Epoch 00023: val_loss did not improve from 14.47949\n",
      "Epoch 24/25\n",
      "625/625 [==============================] - 10s 16ms/step - loss: 14.5123 - acc: 0.0996 - val_loss: 14.4795 - val_acc: 0.1017\n",
      "\n",
      "Epoch 00024: val_loss did not improve from 14.47949\n",
      "Epoch 25/25\n",
      "625/625 [==============================] - 8s 13ms/step - loss: 14.5123 - acc: 0.0996 - val_loss: 14.4795 - val_acc: 0.1017\n",
      "\n",
      "Epoch 00025: val_loss did not improve from 14.47949\n",
      "Epoch 1/25\n",
      "625/625 [==============================] - 8s 13ms/step - loss: 1.9495 - acc: 0.2859 - val_loss: 1.8797 - val_acc: 0.3068\n",
      "\n",
      "Epoch 00001: val_loss improved from inf to 1.87972, saving model to model_preprocessed_0.01/model_preprocessed_0.01-01-1.88.h5\n",
      "Epoch 2/25\n",
      "625/625 [==============================] - 8s 13ms/step - loss: 1.8390 - acc: 0.3272 - val_loss: 1.8740 - val_acc: 0.3198\n",
      "\n",
      "Epoch 00002: val_loss improved from 1.87972 to 1.87404, saving model to model_preprocessed_0.01/model_preprocessed_0.01-02-1.87.h5\n",
      "Epoch 3/25\n",
      "625/625 [==============================] - 9s 15ms/step - loss: 1.8057 - acc: 0.3431 - val_loss: 1.8075 - val_acc: 0.3477\n",
      "\n",
      "Epoch 00003: val_loss improved from 1.87404 to 1.80752, saving model to model_preprocessed_0.01/model_preprocessed_0.01-03-1.81.h5\n",
      "Epoch 4/25\n",
      "625/625 [==============================] - 9s 14ms/step - loss: 1.7564 - acc: 0.3642 - val_loss: 1.7466 - val_acc: 0.3670\n",
      "\n",
      "Epoch 00004: val_loss improved from 1.80752 to 1.74657, saving model to model_preprocessed_0.01/model_preprocessed_0.01-04-1.75.h5\n",
      "Epoch 5/25\n",
      "625/625 [==============================] - 10s 16ms/step - loss: 1.7287 - acc: 0.3734 - val_loss: 1.7463 - val_acc: 0.3691\n",
      "\n",
      "Epoch 00005: val_loss improved from 1.74657 to 1.74628, saving model to model_preprocessed_0.01/model_preprocessed_0.01-05-1.75.h5\n",
      "Epoch 6/25\n",
      "625/625 [==============================] - 11s 17ms/step - loss: 1.7196 - acc: 0.3768 - val_loss: 1.7376 - val_acc: 0.3712\n",
      "\n",
      "Epoch 00006: val_loss improved from 1.74628 to 1.73761, saving model to model_preprocessed_0.01/model_preprocessed_0.01-06-1.74.h5\n",
      "Epoch 7/25\n",
      "625/625 [==============================] - 9s 15ms/step - loss: 1.7035 - acc: 0.3827 - val_loss: 1.7066 - val_acc: 0.3772\n",
      "\n",
      "Epoch 00007: val_loss improved from 1.73761 to 1.70664, saving model to model_preprocessed_0.01/model_preprocessed_0.01-07-1.71.h5\n",
      "Epoch 8/25\n",
      "625/625 [==============================] - 9s 14ms/step - loss: 1.6937 - acc: 0.3873 - val_loss: 1.7024 - val_acc: 0.3727\n",
      "\n",
      "Epoch 00008: val_loss improved from 1.70664 to 1.70238, saving model to model_preprocessed_0.01/model_preprocessed_0.01-08-1.70.h5\n",
      "Epoch 9/25\n",
      "625/625 [==============================] - 9s 14ms/step - loss: 1.6814 - acc: 0.3877 - val_loss: 1.7021 - val_acc: 0.3809\n",
      "\n",
      "Epoch 00009: val_loss improved from 1.70238 to 1.70213, saving model to model_preprocessed_0.01/model_preprocessed_0.01-09-1.70.h5\n",
      "Epoch 10/25\n",
      "625/625 [==============================] - 10s 16ms/step - loss: 1.6783 - acc: 0.3910 - val_loss: 1.7029 - val_acc: 0.3882\n",
      "\n",
      "Epoch 00010: val_loss did not improve from 1.70213\n",
      "Epoch 11/25\n",
      "625/625 [==============================] - 8s 13ms/step - loss: 1.6730 - acc: 0.3927 - val_loss: 1.6954 - val_acc: 0.3852\n",
      "\n",
      "Epoch 00011: val_loss improved from 1.70213 to 1.69537, saving model to model_preprocessed_0.01/model_preprocessed_0.01-11-1.70.h5\n",
      "Epoch 12/25\n",
      "625/625 [==============================] - 8s 12ms/step - loss: 1.6689 - acc: 0.3949 - val_loss: 1.6755 - val_acc: 0.3932\n",
      "\n",
      "Epoch 00012: val_loss improved from 1.69537 to 1.67549, saving model to model_preprocessed_0.01/model_preprocessed_0.01-12-1.68.h5\n",
      "Epoch 13/25\n",
      "625/625 [==============================] - 8s 12ms/step - loss: 1.6633 - acc: 0.3970 - val_loss: 1.6673 - val_acc: 0.3971\n",
      "\n",
      "Epoch 00013: val_loss improved from 1.67549 to 1.66726, saving model to model_preprocessed_0.01/model_preprocessed_0.01-13-1.67.h5\n",
      "Epoch 14/25\n",
      "625/625 [==============================] - 8s 13ms/step - loss: 1.6600 - acc: 0.3998 - val_loss: 1.6593 - val_acc: 0.3910\n",
      "\n",
      "Epoch 00014: val_loss improved from 1.66726 to 1.65926, saving model to model_preprocessed_0.01/model_preprocessed_0.01-14-1.66.h5\n",
      "Epoch 15/25\n",
      "625/625 [==============================] - 8s 13ms/step - loss: 1.6495 - acc: 0.3998 - val_loss: 1.6728 - val_acc: 0.3854\n",
      "\n",
      "Epoch 00015: val_loss did not improve from 1.65926\n",
      "Epoch 16/25\n",
      "625/625 [==============================] - 9s 14ms/step - loss: 1.6539 - acc: 0.3978 - val_loss: 1.7194 - val_acc: 0.3818\n",
      "\n",
      "Epoch 00016: val_loss did not improve from 1.65926\n",
      "Epoch 17/25\n",
      "625/625 [==============================] - 8s 12ms/step - loss: 1.6480 - acc: 0.4041 - val_loss: 1.6927 - val_acc: 0.3953\n",
      "\n",
      "Epoch 00017: val_loss did not improve from 1.65926\n",
      "Epoch 18/25\n",
      "625/625 [==============================] - 8s 12ms/step - loss: 1.6502 - acc: 0.3999 - val_loss: 1.6627 - val_acc: 0.3979\n",
      "\n",
      "Epoch 00018: val_loss did not improve from 1.65926\n",
      "Epoch 19/25\n",
      "625/625 [==============================] - 8s 13ms/step - loss: 1.6475 - acc: 0.4035 - val_loss: 1.6678 - val_acc: 0.3959\n",
      "\n",
      "Epoch 00019: val_loss did not improve from 1.65926\n",
      "Epoch 20/25\n",
      "625/625 [==============================] - 8s 12ms/step - loss: 1.6438 - acc: 0.4035 - val_loss: 1.6609 - val_acc: 0.3990\n",
      "\n",
      "Epoch 00020: val_loss did not improve from 1.65926\n",
      "Epoch 21/25\n",
      "625/625 [==============================] - 8s 12ms/step - loss: 1.6412 - acc: 0.4036 - val_loss: 1.6546 - val_acc: 0.3931\n",
      "\n",
      "Epoch 00021: val_loss improved from 1.65926 to 1.65464, saving model to model_preprocessed_0.01/model_preprocessed_0.01-21-1.65.h5\n",
      "Epoch 22/25\n",
      "625/625 [==============================] - 8s 12ms/step - loss: 1.6433 - acc: 0.4058 - val_loss: 1.6529 - val_acc: 0.3999\n",
      "\n",
      "Epoch 00022: val_loss improved from 1.65464 to 1.65293, saving model to model_preprocessed_0.01/model_preprocessed_0.01-22-1.65.h5\n",
      "Epoch 23/25\n",
      "625/625 [==============================] - 8s 12ms/step - loss: 1.6353 - acc: 0.4086 - val_loss: 1.6544 - val_acc: 0.3985\n",
      "\n",
      "Epoch 00023: val_loss did not improve from 1.65293\n",
      "Epoch 24/25\n",
      "625/625 [==============================] - 8s 13ms/step - loss: 1.6363 - acc: 0.4076 - val_loss: 1.6622 - val_acc: 0.3978\n",
      "\n",
      "Epoch 00024: val_loss did not improve from 1.65293\n",
      "Epoch 25/25\n",
      "625/625 [==============================] - 7s 12ms/step - loss: 1.6321 - acc: 0.4072 - val_loss: 1.6718 - val_acc: 0.3879\n",
      "\n",
      "Epoch 00025: val_loss did not improve from 1.65293\n",
      "Epoch 1/25\n",
      "625/625 [==============================] - 8s 13ms/step - loss: 1.7959 - acc: 0.3578 - val_loss: 1.5691 - val_acc: 0.4447\n",
      "\n",
      "Epoch 00001: val_loss improved from inf to 1.56914, saving model to model_preprocessed_0.001/model_preprocessed_0.001-01-1.57.h5\n",
      "Epoch 2/25\n",
      "625/625 [==============================] - 7s 12ms/step - loss: 1.4943 - acc: 0.4719 - val_loss: 1.4564 - val_acc: 0.4899\n",
      "\n",
      "Epoch 00002: val_loss improved from 1.56914 to 1.45644, saving model to model_preprocessed_0.001/model_preprocessed_0.001-02-1.46.h5\n",
      "Epoch 3/25\n",
      "625/625 [==============================] - 10s 16ms/step - loss: 1.3785 - acc: 0.5107 - val_loss: 1.3989 - val_acc: 0.5011\n",
      "\n",
      "Epoch 00003: val_loss improved from 1.45644 to 1.39889, saving model to model_preprocessed_0.001/model_preprocessed_0.001-03-1.40.h5\n",
      "Epoch 4/25\n",
      "625/625 [==============================] - 7s 11ms/step - loss: 1.3041 - acc: 0.5399 - val_loss: 1.3246 - val_acc: 0.5319\n",
      "\n",
      "Epoch 00004: val_loss improved from 1.39889 to 1.32465, saving model to model_preprocessed_0.001/model_preprocessed_0.001-04-1.32.h5\n",
      "Epoch 5/25\n"
     ]
    },
    {
     "name": "stdout",
     "output_type": "stream",
     "text": [
      "625/625 [==============================] - 7s 12ms/step - loss: 1.2548 - acc: 0.5574 - val_loss: 1.3023 - val_acc: 0.5380\n",
      "\n",
      "Epoch 00005: val_loss improved from 1.32465 to 1.30232, saving model to model_preprocessed_0.001/model_preprocessed_0.001-05-1.30.h5\n",
      "Epoch 6/25\n",
      "625/625 [==============================] - 7s 11ms/step - loss: 1.2188 - acc: 0.5682 - val_loss: 1.2765 - val_acc: 0.5502\n",
      "\n",
      "Epoch 00006: val_loss improved from 1.30232 to 1.27647, saving model to model_preprocessed_0.001/model_preprocessed_0.001-06-1.28.h5\n",
      "Epoch 7/25\n",
      "625/625 [==============================] - 8s 12ms/step - loss: 1.1851 - acc: 0.5816 - val_loss: 1.2345 - val_acc: 0.5662\n",
      "\n",
      "Epoch 00007: val_loss improved from 1.27647 to 1.23454, saving model to model_preprocessed_0.001/model_preprocessed_0.001-07-1.23.h5\n",
      "Epoch 8/25\n",
      "625/625 [==============================] - 10s 16ms/step - loss: 1.1582 - acc: 0.5890 - val_loss: 1.2343 - val_acc: 0.5635\n",
      "\n",
      "Epoch 00008: val_loss improved from 1.23454 to 1.23427, saving model to model_preprocessed_0.001/model_preprocessed_0.001-08-1.23.h5\n",
      "Epoch 9/25\n",
      "625/625 [==============================] - 10s 16ms/step - loss: 1.1347 - acc: 0.6025 - val_loss: 1.2513 - val_acc: 0.5610\n",
      "\n",
      "Epoch 00009: val_loss did not improve from 1.23427\n",
      "Epoch 10/25\n",
      "625/625 [==============================] - 10s 16ms/step - loss: 1.1102 - acc: 0.6086 - val_loss: 1.2218 - val_acc: 0.5702\n",
      "\n",
      "Epoch 00010: val_loss improved from 1.23427 to 1.22182, saving model to model_preprocessed_0.001/model_preprocessed_0.001-10-1.22.h5\n",
      "Epoch 11/25\n",
      "625/625 [==============================] - 7s 11ms/step - loss: 1.0896 - acc: 0.6172 - val_loss: 1.2186 - val_acc: 0.5704\n",
      "\n",
      "Epoch 00011: val_loss improved from 1.22182 to 1.21863, saving model to model_preprocessed_0.001/model_preprocessed_0.001-11-1.22.h5\n",
      "Epoch 12/25\n",
      "625/625 [==============================] - 7s 11ms/step - loss: 1.0720 - acc: 0.6219 - val_loss: 1.2058 - val_acc: 0.5756\n",
      "\n",
      "Epoch 00012: val_loss improved from 1.21863 to 1.20577, saving model to model_preprocessed_0.001/model_preprocessed_0.001-12-1.21.h5\n",
      "Epoch 13/25\n",
      "625/625 [==============================] - 7s 11ms/step - loss: 1.0583 - acc: 0.6261 - val_loss: 1.2090 - val_acc: 0.5784\n",
      "\n",
      "Epoch 00013: val_loss did not improve from 1.20577\n",
      "Epoch 14/25\n",
      "625/625 [==============================] - 7s 12ms/step - loss: 1.0408 - acc: 0.6350 - val_loss: 1.2007 - val_acc: 0.5805\n",
      "\n",
      "Epoch 00014: val_loss improved from 1.20577 to 1.20071, saving model to model_preprocessed_0.001/model_preprocessed_0.001-14-1.20.h5\n",
      "Epoch 15/25\n",
      "625/625 [==============================] - 7s 12ms/step - loss: 1.0279 - acc: 0.6373 - val_loss: 1.1991 - val_acc: 0.5824\n",
      "\n",
      "Epoch 00015: val_loss improved from 1.20071 to 1.19908, saving model to model_preprocessed_0.001/model_preprocessed_0.001-15-1.20.h5\n",
      "Epoch 16/25\n",
      "625/625 [==============================] - 8s 12ms/step - loss: 1.0166 - acc: 0.6427 - val_loss: 1.2120 - val_acc: 0.5783\n",
      "\n",
      "Epoch 00016: val_loss did not improve from 1.19908\n",
      "Epoch 17/25\n",
      "625/625 [==============================] - 7s 12ms/step - loss: 1.0004 - acc: 0.6473 - val_loss: 1.1966 - val_acc: 0.5829\n",
      "\n",
      "Epoch 00017: val_loss improved from 1.19908 to 1.19660, saving model to model_preprocessed_0.001/model_preprocessed_0.001-17-1.20.h5\n",
      "Epoch 18/25\n",
      "625/625 [==============================] - 7s 12ms/step - loss: 0.9894 - acc: 0.6537 - val_loss: 1.2104 - val_acc: 0.5838\n",
      "\n",
      "Epoch 00018: val_loss did not improve from 1.19660\n",
      "Epoch 19/25\n",
      "625/625 [==============================] - 8s 12ms/step - loss: 0.9750 - acc: 0.6567 - val_loss: 1.1908 - val_acc: 0.5872\n",
      "\n",
      "Epoch 00019: val_loss improved from 1.19660 to 1.19081, saving model to model_preprocessed_0.001/model_preprocessed_0.001-19-1.19.h5\n",
      "Epoch 20/25\n",
      "625/625 [==============================] - 8s 12ms/step - loss: 0.9650 - acc: 0.6596 - val_loss: 1.2125 - val_acc: 0.5865\n",
      "\n",
      "Epoch 00020: val_loss did not improve from 1.19081\n",
      "Epoch 21/25\n",
      "625/625 [==============================] - 9s 15ms/step - loss: 0.9568 - acc: 0.6626 - val_loss: 1.2244 - val_acc: 0.5792\n",
      "\n",
      "Epoch 00021: val_loss did not improve from 1.19081\n",
      "Epoch 22/25\n",
      "625/625 [==============================] - 9s 14ms/step - loss: 0.9481 - acc: 0.6671 - val_loss: 1.2056 - val_acc: 0.5875\n",
      "\n",
      "Epoch 00022: val_loss did not improve from 1.19081\n",
      "Epoch 23/25\n",
      "625/625 [==============================] - 8s 12ms/step - loss: 0.9379 - acc: 0.6696 - val_loss: 1.1944 - val_acc: 0.5929\n",
      "\n",
      "Epoch 00023: val_loss did not improve from 1.19081\n",
      "Epoch 24/25\n",
      "625/625 [==============================] - 10s 16ms/step - loss: 0.9271 - acc: 0.6743 - val_loss: 1.2262 - val_acc: 0.5799\n",
      "\n",
      "Epoch 00024: val_loss did not improve from 1.19081\n",
      "Epoch 25/25\n",
      "625/625 [==============================] - 11s 17ms/step - loss: 0.9196 - acc: 0.6758 - val_loss: 1.2433 - val_acc: 0.5801\n",
      "\n",
      "Epoch 00025: val_loss did not improve from 1.19081\n",
      "Epoch 1/25\n",
      "625/625 [==============================] - 8s 13ms/step - loss: 2.2957 - acc: 0.1129 - val_loss: 2.2831 - val_acc: 0.1284\n",
      "\n",
      "Epoch 00001: val_loss improved from inf to 2.28305, saving model to model_preprocessed_1e-05/model_preprocessed_1e-05-01-2.28.h5\n",
      "Epoch 2/25\n",
      "625/625 [==============================] - 8s 13ms/step - loss: 2.2677 - acc: 0.1435 - val_loss: 2.2502 - val_acc: 0.1742\n",
      "\n",
      "Epoch 00002: val_loss improved from 2.28305 to 2.25016, saving model to model_preprocessed_1e-05/model_preprocessed_1e-05-02-2.25.h5\n",
      "Epoch 3/25\n",
      "625/625 [==============================] - 8s 13ms/step - loss: 2.2262 - acc: 0.1864 - val_loss: 2.2000 - val_acc: 0.2064\n",
      "\n",
      "Epoch 00003: val_loss improved from 2.25016 to 2.20001, saving model to model_preprocessed_1e-05/model_preprocessed_1e-05-03-2.20.h5\n",
      "Epoch 4/25\n",
      "625/625 [==============================] - 8s 13ms/step - loss: 2.1629 - acc: 0.2301 - val_loss: 2.1268 - val_acc: 0.2443\n",
      "\n",
      "Epoch 00004: val_loss improved from 2.20001 to 2.12678, saving model to model_preprocessed_1e-05/model_preprocessed_1e-05-04-2.13.h5\n",
      "Epoch 5/25\n",
      "625/625 [==============================] - 8s 13ms/step - loss: 2.0976 - acc: 0.2617 - val_loss: 2.0678 - val_acc: 0.2744\n",
      "\n",
      "Epoch 00005: val_loss improved from 2.12678 to 2.06780, saving model to model_preprocessed_1e-05/model_preprocessed_1e-05-05-2.07.h5\n",
      "Epoch 6/25\n",
      "625/625 [==============================] - 8s 13ms/step - loss: 2.0457 - acc: 0.2799 - val_loss: 2.0234 - val_acc: 0.2935\n",
      "\n",
      "Epoch 00006: val_loss improved from 2.06780 to 2.02339, saving model to model_preprocessed_1e-05/model_preprocessed_1e-05-06-2.02.h5\n",
      "Epoch 7/25\n",
      "625/625 [==============================] - 8s 14ms/step - loss: 2.0070 - acc: 0.2942 - val_loss: 1.9918 - val_acc: 0.3005\n",
      "\n",
      "Epoch 00007: val_loss improved from 2.02339 to 1.99175, saving model to model_preprocessed_1e-05/model_preprocessed_1e-05-07-1.99.h5\n",
      "Epoch 8/25\n",
      "625/625 [==============================] - 9s 15ms/step - loss: 1.9788 - acc: 0.3031 - val_loss: 1.9681 - val_acc: 0.3029\n",
      "\n",
      "Epoch 00008: val_loss improved from 1.99175 to 1.96813, saving model to model_preprocessed_1e-05/model_preprocessed_1e-05-08-1.97.h5\n",
      "Epoch 9/25\n",
      "625/625 [==============================] - 9s 14ms/step - loss: 1.9568 - acc: 0.3093 - val_loss: 1.9498 - val_acc: 0.3125\n",
      "\n",
      "Epoch 00009: val_loss improved from 1.96813 to 1.94975, saving model to model_preprocessed_1e-05/model_preprocessed_1e-05-09-1.95.h5\n",
      "Epoch 10/25\n",
      "625/625 [==============================] - 8s 13ms/step - loss: 1.9396 - acc: 0.3183 - val_loss: 1.9344 - val_acc: 0.3150\n",
      "\n",
      "Epoch 00010: val_loss improved from 1.94975 to 1.93442, saving model to model_preprocessed_1e-05/model_preprocessed_1e-05-10-1.93.h5\n",
      "Epoch 11/25\n",
      "625/625 [==============================] - 8s 13ms/step - loss: 1.9247 - acc: 0.3235 - val_loss: 1.9218 - val_acc: 0.3197\n",
      "\n",
      "Epoch 00011: val_loss improved from 1.93442 to 1.92177, saving model to model_preprocessed_1e-05/model_preprocessed_1e-05-11-1.92.h5\n",
      "Epoch 12/25\n",
      "625/625 [==============================] - 8s 13ms/step - loss: 1.9119 - acc: 0.3272 - val_loss: 1.9104 - val_acc: 0.3270\n",
      "\n",
      "Epoch 00012: val_loss improved from 1.92177 to 1.91037, saving model to model_preprocessed_1e-05/model_preprocessed_1e-05-12-1.91.h5\n",
      "Epoch 13/25\n",
      "625/625 [==============================] - 9s 14ms/step - loss: 1.9002 - acc: 0.3332 - val_loss: 1.9002 - val_acc: 0.3306\n",
      "\n",
      "Epoch 00013: val_loss improved from 1.91037 to 1.90018, saving model to model_preprocessed_1e-05/model_preprocessed_1e-05-13-1.90.h5\n",
      "Epoch 14/25\n"
     ]
    },
    {
     "name": "stdout",
     "output_type": "stream",
     "text": [
      "625/625 [==============================] - 8s 13ms/step - loss: 1.8892 - acc: 0.3377 - val_loss: 1.8896 - val_acc: 0.3369\n",
      "\n",
      "Epoch 00014: val_loss improved from 1.90018 to 1.88961, saving model to model_preprocessed_1e-05/model_preprocessed_1e-05-14-1.89.h5\n",
      "Epoch 15/25\n",
      "625/625 [==============================] - 8s 13ms/step - loss: 1.8790 - acc: 0.3416 - val_loss: 1.8806 - val_acc: 0.3417\n",
      "\n",
      "Epoch 00015: val_loss improved from 1.88961 to 1.88060, saving model to model_preprocessed_1e-05/model_preprocessed_1e-05-15-1.88.h5\n",
      "Epoch 16/25\n",
      "625/625 [==============================] - 8s 13ms/step - loss: 1.8691 - acc: 0.3457 - val_loss: 1.8713 - val_acc: 0.3454\n",
      "\n",
      "Epoch 00016: val_loss improved from 1.88060 to 1.87126, saving model to model_preprocessed_1e-05/model_preprocessed_1e-05-16-1.87.h5\n",
      "Epoch 17/25\n",
      "625/625 [==============================] - 8s 13ms/step - loss: 1.8590 - acc: 0.3492 - val_loss: 1.8616 - val_acc: 0.3495\n",
      "\n",
      "Epoch 00017: val_loss improved from 1.87126 to 1.86158, saving model to model_preprocessed_1e-05/model_preprocessed_1e-05-17-1.86.h5\n",
      "Epoch 18/25\n",
      "625/625 [==============================] - 8s 13ms/step - loss: 1.8495 - acc: 0.3543 - val_loss: 1.8529 - val_acc: 0.3525\n",
      "\n",
      "Epoch 00018: val_loss improved from 1.86158 to 1.85293, saving model to model_preprocessed_1e-05/model_preprocessed_1e-05-18-1.85.h5\n",
      "Epoch 19/25\n",
      "625/625 [==============================] - 8s 13ms/step - loss: 1.8398 - acc: 0.3569 - val_loss: 1.8449 - val_acc: 0.3525\n",
      "\n",
      "Epoch 00019: val_loss improved from 1.85293 to 1.84487, saving model to model_preprocessed_1e-05/model_preprocessed_1e-05-19-1.84.h5\n",
      "Epoch 20/25\n",
      "625/625 [==============================] - 9s 14ms/step - loss: 1.8300 - acc: 0.3593 - val_loss: 1.8343 - val_acc: 0.3576\n",
      "\n",
      "Epoch 00020: val_loss improved from 1.84487 to 1.83425, saving model to model_preprocessed_1e-05/model_preprocessed_1e-05-20-1.83.h5\n",
      "Epoch 21/25\n",
      "625/625 [==============================] - 8s 13ms/step - loss: 1.8205 - acc: 0.3635 - val_loss: 1.8252 - val_acc: 0.3617\n",
      "\n",
      "Epoch 00021: val_loss improved from 1.83425 to 1.82522, saving model to model_preprocessed_1e-05/model_preprocessed_1e-05-21-1.83.h5\n",
      "Epoch 22/25\n",
      "625/625 [==============================] - 9s 15ms/step - loss: 1.8106 - acc: 0.3682 - val_loss: 1.8163 - val_acc: 0.3656\n",
      "\n",
      "Epoch 00022: val_loss improved from 1.82522 to 1.81626, saving model to model_preprocessed_1e-05/model_preprocessed_1e-05-22-1.82.h5\n",
      "Epoch 23/25\n",
      "625/625 [==============================] - 8s 13ms/step - loss: 1.8009 - acc: 0.3704 - val_loss: 1.8076 - val_acc: 0.3705\n",
      "\n",
      "Epoch 00023: val_loss improved from 1.81626 to 1.80758, saving model to model_preprocessed_1e-05/model_preprocessed_1e-05-23-1.81.h5\n",
      "Epoch 24/25\n",
      "625/625 [==============================] - 8s 13ms/step - loss: 1.7921 - acc: 0.3751 - val_loss: 1.7993 - val_acc: 0.3727\n",
      "\n",
      "Epoch 00024: val_loss improved from 1.80758 to 1.79933, saving model to model_preprocessed_1e-05/model_preprocessed_1e-05-24-1.80.h5\n",
      "Epoch 25/25\n",
      "625/625 [==============================] - 8s 13ms/step - loss: 1.7834 - acc: 0.3787 - val_loss: 1.7911 - val_acc: 0.3762\n",
      "\n",
      "Epoch 00025: val_loss improved from 1.79933 to 1.79113, saving model to model_preprocessed_1e-05/model_preprocessed_1e-05-25-1.79.h5\n"
     ]
    }
   ],
   "source": [
    "learning_rates = [2.5, 0.4, 0.01, 0.001, 0.00001]\n",
    "lr_histories = runBest(learning_rates)"
   ]
  },
  {
   "cell_type": "markdown",
   "metadata": {},
   "source": [
    "### Task 6.2 Plot loss and accuracy\n"
   ]
  },
  {
   "cell_type": "markdown",
   "metadata": {},
   "source": [
    "Plot the loss and accracy for best model selected in task 5.1, and model trained in 6.1.1, 6.1.2 and 6.1.3 task. Give the detailed analysis of the effect of learning rate in your words and select the best learning rate for this problem."
   ]
  },
  {
   "cell_type": "code",
   "execution_count": 45,
   "metadata": {},
   "outputs": [
    {
     "data": {
      "image/png": "[encoded data removed]",
      "text/plain": [
       "<Figure size 432x288 with 1 Axes>"
      ]
     },
     "metadata": {
      "needs_background": "light"
     },
     "output_type": "display_data"
    },
    {
     "data": {
      "image/png": "[encoded data removed]",
      "text/plain": [
       "<Figure size 432x288 with 1 Axes>"
      ]
     },
     "metadata": {
      "needs_background": "light"
     },
     "output_type": "display_data"
    },
    {
     "data": {
      "image/png": "[encoded data removed]",
      "text/plain": [
       "<Figure size 432x288 with 1 Axes>"
      ]
     },
     "metadata": {
      "needs_background": "light"
     },
     "output_type": "display_data"
    },
    {
     "data": {
      "image/png": "[encoded data removed]",
      "text/plain": [
       "<Figure size 432x288 with 1 Axes>"
      ]
     },
     "metadata": {
      "needs_background": "light"
     },
     "output_type": "display_data"
    }
   ],
   "source": [
    "names = [str(lr) for lr in learning_rates]\n",
    "plotHistory(lr_histories, names, 'acc')\n",
    "plotHistory(lr_histories, names, 'loss')\n",
    "plotHistory(lr_histories, names, 'val_loss')\n",
    "plotHistory(lr_histories, names, 'val_acc')"
   ]
  },
  {
   "cell_type": "markdown",
   "metadata": {},
   "source": [
    "The best learning rate is 0.001. This is because, as can be seen from the graphs, when the learning rate is too high, in this case above 0.4, then the network does not learn at all. This is because the weights keep hopping between different places on the error function and the loss actually gets worse rather than getting better, and the same happens with accuracy. If the learning rate is too low, however, the network does learn, but the steps it takes are too small and it does not converge fast enough. This is why the ReduceLROnPlateau function is used, so that we can quickly move towards the bottom given an initialy, slightly higher learning rate, and then take smaller steps as we reach closer to the bottom."
   ]
  }
 ],
 "metadata": {
  "kernelspec": {
   "display_name": "Python 3",
   "language": "python",
   "name": "python3"
  },
  "language_info": {
   "codemirror_mode": {
    "name": "ipython",
    "version": 3
   },
   "file_extension": ".py",
   "mimetype": "text/x-python",
   "name": "python",
   "nbconvert_exporter": "python",
   "pygments_lexer": "ipython3",
   "version": "3.6.8"
  },
  "widgets": {
   "application/vnd.jupyter.widget-state+json": {
    "state": {},
    "version_major": 2,
    "version_minor": 0
   }
  }
 },
 "nbformat": 4,
 "nbformat_minor": 2
}
